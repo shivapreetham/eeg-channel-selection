{
 "cells": [
  {
   "cell_type": "markdown",
   "id": "ef5dd0bf",
   "metadata": {},
   "source": [
    "\n",
    "# PhysioNet Motor Imagery – Data Cleaning\n",
    "\n",
    "This notebook consolidates quality metrics extracted during exploratory analysis and produces\n",
    "a clean subject/run inventory. We recompute robust z-scores, flag problematic runs, and export\n",
    "CSV artefacts that downstream notebooks can consume.\n"
   ]
  },
  {
   "cell_type": "markdown",
   "id": "a27380f5",
   "metadata": {},
   "source": [
    "\n",
    "## Workflow\n",
    "1. Load the cached run-level summary produced during EDA.\n",
    "2. Recompute amplitude-based z-scores (excluding all-NaN columns such as `line_noise_ratio`).\n",
    "3. Mark a run as *bad* if it violates any of the following heuristics:\n",
    "   - `amp_issue_flag` raised during raw inspection.\n",
    "   - `has_noisy_issue` flagged by the spectrum-based detector.\n",
    "   - Clipping fraction above 5%.\n",
    "   - Any amplitude-related z-score exceeds 3.0.\n",
    "4. Aggregate per subject, keep only participants with at least 10 good runs **and**\n",
    "   ≥70% of their sessions passing the filters.\n",
    "5. Export `physionet_good_runs.csv` and `physionet_good_subjects.csv`.\n"
   ]
  },
  {
   "cell_type": "code",
   "execution_count": 1,
   "id": "a1cb0823",
   "metadata": {},
   "outputs": [
    {
     "name": "stdout",
     "output_type": "stream",
     "text": [
      "Loaded 1526 runs from data\\physionet\\derived\\physionet_run_summary.csv\n"
     ]
    },
    {
     "data": {
      "text/html": [
       "<div>\n",
       "<style scoped>\n",
       "    .dataframe tbody tr th:only-of-type {\n",
       "        vertical-align: middle;\n",
       "    }\n",
       "\n",
       "    .dataframe tbody tr th {\n",
       "        vertical-align: top;\n",
       "    }\n",
       "\n",
       "    .dataframe thead th {\n",
       "        text-align: right;\n",
       "    }\n",
       "</style>\n",
       "<table border=\"1\" class=\"dataframe\">\n",
       "  <thead>\n",
       "    <tr style=\"text-align: right;\">\n",
       "      <th></th>\n",
       "      <th>subject</th>\n",
       "      <th>run</th>\n",
       "      <th>session</th>\n",
       "      <th>category</th>\n",
       "      <th>task</th>\n",
       "      <th>sfreq</th>\n",
       "      <th>n_channels</th>\n",
       "      <th>duration_s</th>\n",
       "      <th>mean_channel_std_uv</th>\n",
       "      <th>median_channel_std_uv</th>\n",
       "      <th>...</th>\n",
       "      <th>band_alpha_rel_power_std</th>\n",
       "      <th>band_beta_rel_power_mean</th>\n",
       "      <th>band_beta_rel_power_std</th>\n",
       "      <th>band_gamma_rel_power_mean</th>\n",
       "      <th>band_gamma_rel_power_std</th>\n",
       "      <th>has_flat_issue</th>\n",
       "      <th>has_noisy_issue</th>\n",
       "      <th>amp_issue_flag</th>\n",
       "      <th>max_abs_z</th>\n",
       "      <th>zscore_flag</th>\n",
       "    </tr>\n",
       "  </thead>\n",
       "  <tbody>\n",
       "    <tr>\n",
       "      <th>0</th>\n",
       "      <td>S001</td>\n",
       "      <td>R01</td>\n",
       "      <td>baseline</td>\n",
       "      <td>resting_state</td>\n",
       "      <td>Baseline eyes open</td>\n",
       "      <td>160.0</td>\n",
       "      <td>64</td>\n",
       "      <td>60.99375</td>\n",
       "      <td>56.076575</td>\n",
       "      <td>52.452534</td>\n",
       "      <td>...</td>\n",
       "      <td>0.034929</td>\n",
       "      <td>0.125122</td>\n",
       "      <td>0.053379</td>\n",
       "      <td>0.020059</td>\n",
       "      <td>0.015120</td>\n",
       "      <td>False</td>\n",
       "      <td>False</td>\n",
       "      <td>True</td>\n",
       "      <td>NaN</td>\n",
       "      <td>False</td>\n",
       "    </tr>\n",
       "    <tr>\n",
       "      <th>1</th>\n",
       "      <td>S001</td>\n",
       "      <td>R02</td>\n",
       "      <td>baseline</td>\n",
       "      <td>resting_state</td>\n",
       "      <td>Baseline eyes closed</td>\n",
       "      <td>160.0</td>\n",
       "      <td>64</td>\n",
       "      <td>60.99375</td>\n",
       "      <td>52.817654</td>\n",
       "      <td>50.628951</td>\n",
       "      <td>...</td>\n",
       "      <td>0.135115</td>\n",
       "      <td>0.130307</td>\n",
       "      <td>0.039210</td>\n",
       "      <td>0.019399</td>\n",
       "      <td>0.016607</td>\n",
       "      <td>False</td>\n",
       "      <td>False</td>\n",
       "      <td>False</td>\n",
       "      <td>NaN</td>\n",
       "      <td>False</td>\n",
       "    </tr>\n",
       "    <tr>\n",
       "      <th>2</th>\n",
       "      <td>S001</td>\n",
       "      <td>R03</td>\n",
       "      <td>run_1</td>\n",
       "      <td>motor_execution</td>\n",
       "      <td>Open/close left fist (executed)</td>\n",
       "      <td>160.0</td>\n",
       "      <td>64</td>\n",
       "      <td>124.99375</td>\n",
       "      <td>58.346287</td>\n",
       "      <td>52.637835</td>\n",
       "      <td>...</td>\n",
       "      <td>0.038692</td>\n",
       "      <td>0.127314</td>\n",
       "      <td>0.055687</td>\n",
       "      <td>0.021609</td>\n",
       "      <td>0.015709</td>\n",
       "      <td>False</td>\n",
       "      <td>True</td>\n",
       "      <td>True</td>\n",
       "      <td>NaN</td>\n",
       "      <td>False</td>\n",
       "    </tr>\n",
       "    <tr>\n",
       "      <th>3</th>\n",
       "      <td>S001</td>\n",
       "      <td>R04</td>\n",
       "      <td>run_1</td>\n",
       "      <td>motor_execution</td>\n",
       "      <td>Open/close right fist (executed)</td>\n",
       "      <td>160.0</td>\n",
       "      <td>64</td>\n",
       "      <td>124.99375</td>\n",
       "      <td>52.817273</td>\n",
       "      <td>52.674999</td>\n",
       "      <td>...</td>\n",
       "      <td>0.031510</td>\n",
       "      <td>0.139725</td>\n",
       "      <td>0.050686</td>\n",
       "      <td>0.026578</td>\n",
       "      <td>0.018319</td>\n",
       "      <td>False</td>\n",
       "      <td>False</td>\n",
       "      <td>False</td>\n",
       "      <td>NaN</td>\n",
       "      <td>False</td>\n",
       "    </tr>\n",
       "    <tr>\n",
       "      <th>4</th>\n",
       "      <td>S001</td>\n",
       "      <td>R05</td>\n",
       "      <td>run_1</td>\n",
       "      <td>motor_execution</td>\n",
       "      <td>Open/close both fists (executed)</td>\n",
       "      <td>160.0</td>\n",
       "      <td>64</td>\n",
       "      <td>124.99375</td>\n",
       "      <td>55.644805</td>\n",
       "      <td>51.973645</td>\n",
       "      <td>...</td>\n",
       "      <td>0.036560</td>\n",
       "      <td>0.133283</td>\n",
       "      <td>0.061212</td>\n",
       "      <td>0.027761</td>\n",
       "      <td>0.019522</td>\n",
       "      <td>False</td>\n",
       "      <td>False</td>\n",
       "      <td>False</td>\n",
       "      <td>NaN</td>\n",
       "      <td>False</td>\n",
       "    </tr>\n",
       "  </tbody>\n",
       "</table>\n",
       "<p>5 rows × 41 columns</p>\n",
       "</div>"
      ],
      "text/plain": [
       "  subject  run   session         category                              task  \\\n",
       "0    S001  R01  baseline    resting_state                Baseline eyes open   \n",
       "1    S001  R02  baseline    resting_state              Baseline eyes closed   \n",
       "2    S001  R03     run_1  motor_execution   Open/close left fist (executed)   \n",
       "3    S001  R04     run_1  motor_execution  Open/close right fist (executed)   \n",
       "4    S001  R05     run_1  motor_execution  Open/close both fists (executed)   \n",
       "\n",
       "   sfreq  n_channels  duration_s  mean_channel_std_uv  median_channel_std_uv  \\\n",
       "0  160.0          64    60.99375            56.076575              52.452534   \n",
       "1  160.0          64    60.99375            52.817654              50.628951   \n",
       "2  160.0          64   124.99375            58.346287              52.637835   \n",
       "3  160.0          64   124.99375            52.817273              52.674999   \n",
       "4  160.0          64   124.99375            55.644805              51.973645   \n",
       "\n",
       "   ...  band_alpha_rel_power_std  band_beta_rel_power_mean  \\\n",
       "0  ...                  0.034929                  0.125122   \n",
       "1  ...                  0.135115                  0.130307   \n",
       "2  ...                  0.038692                  0.127314   \n",
       "3  ...                  0.031510                  0.139725   \n",
       "4  ...                  0.036560                  0.133283   \n",
       "\n",
       "   band_beta_rel_power_std  band_gamma_rel_power_mean  \\\n",
       "0                 0.053379                   0.020059   \n",
       "1                 0.039210                   0.019399   \n",
       "2                 0.055687                   0.021609   \n",
       "3                 0.050686                   0.026578   \n",
       "4                 0.061212                   0.027761   \n",
       "\n",
       "   band_gamma_rel_power_std  has_flat_issue  has_noisy_issue  amp_issue_flag  \\\n",
       "0                  0.015120           False            False            True   \n",
       "1                  0.016607           False            False           False   \n",
       "2                  0.015709           False             True            True   \n",
       "3                  0.018319           False            False           False   \n",
       "4                  0.019522           False            False           False   \n",
       "\n",
       "  max_abs_z zscore_flag  \n",
       "0       NaN       False  \n",
       "1       NaN       False  \n",
       "2       NaN       False  \n",
       "3       NaN       False  \n",
       "4       NaN       False  \n",
       "\n",
       "[5 rows x 41 columns]"
      ]
     },
     "execution_count": 1,
     "metadata": {},
     "output_type": "execute_result"
    }
   ],
   "source": [
    "from pathlib import Path\n",
    "\n",
    "import numpy as np\n",
    "import pandas as pd\n",
    "import seaborn as sns\n",
    "import matplotlib.pyplot as plt\n",
    "\n",
    "sns.set_context('notebook', font_scale=1.1)\n",
    "plt.style.use('seaborn-v0_8')\n",
    "\n",
    "DATA_ROOT = Path('data/physionet')\n",
    "DERIVED_DIR = DATA_ROOT / 'derived'\n",
    "RUN_SUMMARY_PATH = DERIVED_DIR / 'physionet_run_summary.csv'\n",
    "SUBJECT_SUMMARY_PATH = DERIVED_DIR / 'physionet_subject_summary.csv'\n",
    "\n",
    "assert RUN_SUMMARY_PATH.exists(), f\"Missing run summary: {RUN_SUMMARY_PATH.as_posix()}\"\n",
    "RUN_DF = pd.read_csv(RUN_SUMMARY_PATH)\n",
    "print(f\"Loaded {RUN_DF.shape[0]} runs from {RUN_SUMMARY_PATH}\")\n",
    "RUN_DF.head()"
   ]
  },
  {
   "cell_type": "markdown",
   "id": "302bee50",
   "metadata": {},
   "source": [
    "\n",
    "## Recompute z-scores (amplitude- and power-based metrics)\n",
    "`line_noise_ratio` is NaN for most runs, so we drop columns that do not contain useful variance.\n"
   ]
  },
  {
   "cell_type": "code",
   "execution_count": 2,
   "id": "1c6b8632",
   "metadata": {},
   "outputs": [
    {
     "name": "stdout",
     "output_type": "stream",
     "text": [
      "Available numeric columns for z-score computation: 13\n",
      "['mean_channel_std_uv', 'median_channel_std_uv', 'p90_channel_std_uv', 'max_channel_std_uv', 'p95_channel_ptp_uv']\n",
      "\n",
      "Z-score statistics:\n"
     ]
    },
    {
     "data": {
      "text/plain": [
       "count    1526.000000\n",
       "mean        1.718554\n",
       "std         0.992105\n",
       "min         0.445067\n",
       "25%         1.085088\n",
       "50%         1.447290\n",
       "75%         1.974739\n",
       "max         8.821419\n",
       "Name: max_abs_z, dtype: float64"
      ]
     },
     "execution_count": 2,
     "metadata": {},
     "output_type": "execute_result"
    }
   ],
   "source": [
    "from scipy.stats import zscore\n",
    "\n",
    "numeric_cols = [\n",
    "    'mean_channel_std_uv', 'median_channel_std_uv', 'p90_channel_std_uv',\n",
    "    'max_channel_std_uv', 'p95_channel_ptp_uv', 'max_channel_ptp_uv',\n",
    "    'clip_fraction_over_200uv', 'max_abs_signal_uv',\n",
    "    'band_alpha_rel_power_mean', 'band_beta_rel_power_mean', \n",
    "    'band_theta_rel_power_mean', 'band_delta_rel_power_mean', 'band_gamma_rel_power_mean'\n",
    "]\n",
    "\n",
    "available_cols = [\n",
    "    col for col in numeric_cols\n",
    "    if col in RUN_DF.columns and RUN_DF[col].notna().any() and RUN_DF[col].std(ddof=0) > 0\n",
    "]\n",
    "\n",
    "print(f\"Available numeric columns for z-score computation: {len(available_cols)}\")\n",
    "print(available_cols[:5])\n",
    "\n",
    "z_df = RUN_DF[available_cols].copy()\n",
    "z_scores = pd.DataFrame(\n",
    "    zscore(z_df.values, axis=0, nan_policy='omit'),\n",
    "    columns=available_cols,\n",
    "    index=RUN_DF.index\n",
    ")\n",
    "\n",
    "RUN_DF['max_abs_z'] = z_scores.abs().max(axis=1)\n",
    "RUN_DF['max_abs_z'] = RUN_DF['max_abs_z'].fillna(0.0)\n",
    "\n",
    "print(f\"\\nZ-score statistics:\")\n",
    "RUN_DF['max_abs_z'].describe()"
   ]
  },
  {
   "cell_type": "markdown",
   "id": "fa820960",
   "metadata": {},
   "source": [
    "\n",
    "## Run-level exclusion logic\n"
   ]
  },
  {
   "cell_type": "code",
   "execution_count": 3,
   "id": "fe956e22",
   "metadata": {},
   "outputs": [
    {
     "name": "stdout",
     "output_type": "stream",
     "text": [
      "\n",
      "Data quality summary:\n",
      "     label  count\n",
      "0     keep    790\n",
      "1  exclude    736\n",
      "\n",
      "Bad runs breakdown:\n",
      "  - Amplitude issues: 663\n",
      "  - High clipping: 288\n",
      "  - Z-score outliers: 136\n"
     ]
    },
    {
     "data": {
      "text/html": [
       "<div>\n",
       "<style scoped>\n",
       "    .dataframe tbody tr th:only-of-type {\n",
       "        vertical-align: middle;\n",
       "    }\n",
       "\n",
       "    .dataframe tbody tr th {\n",
       "        vertical-align: top;\n",
       "    }\n",
       "\n",
       "    .dataframe thead th {\n",
       "        text-align: right;\n",
       "    }\n",
       "</style>\n",
       "<table border=\"1\" class=\"dataframe\">\n",
       "  <thead>\n",
       "    <tr style=\"text-align: right;\">\n",
       "      <th></th>\n",
       "      <th>label</th>\n",
       "      <th>count</th>\n",
       "    </tr>\n",
       "  </thead>\n",
       "  <tbody>\n",
       "    <tr>\n",
       "      <th>0</th>\n",
       "      <td>keep</td>\n",
       "      <td>790</td>\n",
       "    </tr>\n",
       "    <tr>\n",
       "      <th>1</th>\n",
       "      <td>exclude</td>\n",
       "      <td>736</td>\n",
       "    </tr>\n",
       "  </tbody>\n",
       "</table>\n",
       "</div>"
      ],
      "text/plain": [
       "     label  count\n",
       "0     keep    790\n",
       "1  exclude    736"
      ]
     },
     "execution_count": 3,
     "metadata": {},
     "output_type": "execute_result"
    }
   ],
   "source": [
    "CLIP_THRESHOLD = 0.05\n",
    "Z_THRESHOLD = 3.0\n",
    "FLAT_CHANNEL_THRESHOLD = 2\n",
    "MIN_STD_UV = 2.0\n",
    "MAX_STD_UV = 75.0\n",
    "\n",
    "RUN_DF['has_flat_issue'] = RUN_DF['flat_channel_count'] > FLAT_CHANNEL_THRESHOLD\n",
    "RUN_DF['has_noisy_issue'] = RUN_DF['noisy_channel_count'] > 0\n",
    "RUN_DF['amp_issue_flag'] = (\n",
    "    RUN_DF['has_flat_issue'] |\n",
    "    RUN_DF['has_noisy_issue'] |\n",
    "    (RUN_DF['mean_channel_std_uv'] < MIN_STD_UV) |\n",
    "    (RUN_DF['mean_channel_std_uv'] > MAX_STD_UV) |\n",
    "    (RUN_DF['clip_fraction_over_200uv'] > CLIP_THRESHOLD)\n",
    ")\n",
    "\n",
    "RUN_DF['bad_run'] = (\n",
    "    RUN_DF['amp_issue_flag']\n",
    "    | (RUN_DF['clip_fraction_over_200uv'] > CLIP_THRESHOLD)\n",
    "    | (RUN_DF['max_abs_z'] > Z_THRESHOLD)\n",
    ")\n",
    "\n",
    "RUN_DF['quality_label'] = np.where(RUN_DF['bad_run'], 'exclude', 'keep')\n",
    "\n",
    "quality_counts = RUN_DF['quality_label'].value_counts().rename_axis('label').reset_index(name='count')\n",
    "print(f\"\\nData quality summary:\")\n",
    "print(quality_counts)\n",
    "print(f\"\\nBad runs breakdown:\")\n",
    "print(f\"  - Amplitude issues: {RUN_DF['amp_issue_flag'].sum()}\")\n",
    "print(f\"  - High clipping: {(RUN_DF['clip_fraction_over_200uv'] > CLIP_THRESHOLD).sum()}\")\n",
    "print(f\"  - Z-score outliers: {(RUN_DF['max_abs_z'] > Z_THRESHOLD).sum()}\")\n",
    "\n",
    "quality_counts"
   ]
  },
  {
   "cell_type": "code",
   "execution_count": 4,
   "id": "bd0feb22",
   "metadata": {},
   "outputs": [
    {
     "name": "stderr",
     "output_type": "stream",
     "text": [
      "C:\\Users\\SHIVAPREETHAM ROHITH\\AppData\\Local\\Temp\\ipykernel_32004\\4018318422.py:2: FutureWarning: \n",
      "\n",
      "Passing `palette` without assigning `hue` is deprecated and will be removed in v0.14.0. Assign the `x` variable to `hue` and set `legend=False` for the same effect.\n",
      "\n",
      "  sns.barplot(data=quality_counts, x='label', y='count', palette=['#2ca02c', '#d62728'])\n"
     ]
    },
    {
     "data": {
      "image/png": "[encoded data removed]",
      "text/plain": [
       "<Figure size 800x500 with 1 Axes>"
      ]
     },
     "metadata": {},
     "output_type": "display_data"
    }
   ],
   "source": [
    "plt.figure(figsize=(8, 5))\n",
    "sns.barplot(data=quality_counts, x='label', y='count', palette=['#2ca02c', '#d62728'])\n",
    "plt.title('Run quality distribution')\n",
    "plt.ylabel('Number of runs')\n",
    "plt.xlabel('Quality Label')\n",
    "for i, row in quality_counts.iterrows():\n",
    "    plt.text(i, row['count'] + 20, f\"{row['count']}\", ha='center', fontsize=11, fontweight='bold')\n",
    "plt.tight_layout()\n",
    "plt.show()"
   ]
  },
  {
   "cell_type": "markdown",
   "id": "f3c3c37b",
   "metadata": {},
   "source": [
    "\n",
    "## Subject-level aggregation\n"
   ]
  },
  {
   "cell_type": "code",
   "execution_count": 5,
   "id": "bddedaf2",
   "metadata": {},
   "outputs": [
    {
     "name": "stdout",
     "output_type": "stream",
     "text": [
      "\n",
      "Subject quality thresholds:\n",
      "  - Minimum good runs: 10\n",
      "  - Minimum good ratio: 0.7\n",
      "\n",
      "Subject statistics:\n",
      "  - Total subjects: 109\n",
      "  - Good subjects: 51\n",
      "  - Bad subjects: 58\n"
     ]
    },
    {
     "data": {
      "text/html": [
       "<div>\n",
       "<style scoped>\n",
       "    .dataframe tbody tr th:only-of-type {\n",
       "        vertical-align: middle;\n",
       "    }\n",
       "\n",
       "    .dataframe tbody tr th {\n",
       "        vertical-align: top;\n",
       "    }\n",
       "\n",
       "    .dataframe thead th {\n",
       "        text-align: right;\n",
       "    }\n",
       "</style>\n",
       "<table border=\"1\" class=\"dataframe\">\n",
       "  <thead>\n",
       "    <tr style=\"text-align: right;\">\n",
       "      <th></th>\n",
       "      <th>total_runs</th>\n",
       "      <th>bad_runs</th>\n",
       "      <th>avg_clip_fraction</th>\n",
       "      <th>max_clip_fraction</th>\n",
       "      <th>median_std_uv</th>\n",
       "      <th>min_std_uv</th>\n",
       "      <th>max_std_uv</th>\n",
       "      <th>flat_runs</th>\n",
       "      <th>noisy_runs</th>\n",
       "      <th>total_events</th>\n",
       "      <th>total_label_1</th>\n",
       "      <th>total_label_2</th>\n",
       "      <th>good_runs</th>\n",
       "      <th>good_ratio</th>\n",
       "      <th>is_good_subject</th>\n",
       "    </tr>\n",
       "    <tr>\n",
       "      <th>subject</th>\n",
       "      <th></th>\n",
       "      <th></th>\n",
       "      <th></th>\n",
       "      <th></th>\n",
       "      <th></th>\n",
       "      <th></th>\n",
       "      <th></th>\n",
       "      <th></th>\n",
       "      <th></th>\n",
       "      <th></th>\n",
       "      <th></th>\n",
       "      <th></th>\n",
       "      <th></th>\n",
       "      <th></th>\n",
       "      <th></th>\n",
       "    </tr>\n",
       "  </thead>\n",
       "  <tbody>\n",
       "    <tr>\n",
       "      <th>S055</th>\n",
       "      <td>14</td>\n",
       "      <td>0</td>\n",
       "      <td>0.000533</td>\n",
       "      <td>0.005699</td>\n",
       "      <td>22.309502</td>\n",
       "      <td>19.495043</td>\n",
       "      <td>44.970265</td>\n",
       "      <td>0</td>\n",
       "      <td>0</td>\n",
       "      <td>362</td>\n",
       "      <td>91</td>\n",
       "      <td>89</td>\n",
       "      <td>14</td>\n",
       "      <td>1.0</td>\n",
       "      <td>True</td>\n",
       "    </tr>\n",
       "    <tr>\n",
       "      <th>S033</th>\n",
       "      <td>14</td>\n",
       "      <td>0</td>\n",
       "      <td>0.006085</td>\n",
       "      <td>0.010631</td>\n",
       "      <td>31.609807</td>\n",
       "      <td>23.304985</td>\n",
       "      <td>34.721158</td>\n",
       "      <td>0</td>\n",
       "      <td>0</td>\n",
       "      <td>362</td>\n",
       "      <td>87</td>\n",
       "      <td>93</td>\n",
       "      <td>14</td>\n",
       "      <td>1.0</td>\n",
       "      <td>True</td>\n",
       "    </tr>\n",
       "    <tr>\n",
       "      <th>S030</th>\n",
       "      <td>14</td>\n",
       "      <td>0</td>\n",
       "      <td>0.000772</td>\n",
       "      <td>0.010678</td>\n",
       "      <td>25.045487</td>\n",
       "      <td>19.759845</td>\n",
       "      <td>58.674286</td>\n",
       "      <td>0</td>\n",
       "      <td>0</td>\n",
       "      <td>362</td>\n",
       "      <td>92</td>\n",
       "      <td>88</td>\n",
       "      <td>14</td>\n",
       "      <td>1.0</td>\n",
       "      <td>True</td>\n",
       "    </tr>\n",
       "    <tr>\n",
       "      <th>S037</th>\n",
       "      <td>14</td>\n",
       "      <td>0</td>\n",
       "      <td>0.000045</td>\n",
       "      <td>0.000592</td>\n",
       "      <td>12.906979</td>\n",
       "      <td>11.547798</td>\n",
       "      <td>28.633399</td>\n",
       "      <td>0</td>\n",
       "      <td>0</td>\n",
       "      <td>362</td>\n",
       "      <td>90</td>\n",
       "      <td>90</td>\n",
       "      <td>14</td>\n",
       "      <td>1.0</td>\n",
       "      <td>True</td>\n",
       "    </tr>\n",
       "    <tr>\n",
       "      <th>S038</th>\n",
       "      <td>14</td>\n",
       "      <td>0</td>\n",
       "      <td>0.003130</td>\n",
       "      <td>0.012759</td>\n",
       "      <td>30.589816</td>\n",
       "      <td>29.470567</td>\n",
       "      <td>48.726766</td>\n",
       "      <td>0</td>\n",
       "      <td>0</td>\n",
       "      <td>362</td>\n",
       "      <td>92</td>\n",
       "      <td>88</td>\n",
       "      <td>14</td>\n",
       "      <td>1.0</td>\n",
       "      <td>True</td>\n",
       "    </tr>\n",
       "    <tr>\n",
       "      <th>S026</th>\n",
       "      <td>14</td>\n",
       "      <td>0</td>\n",
       "      <td>0.000461</td>\n",
       "      <td>0.004979</td>\n",
       "      <td>21.007389</td>\n",
       "      <td>18.276480</td>\n",
       "      <td>37.975859</td>\n",
       "      <td>0</td>\n",
       "      <td>0</td>\n",
       "      <td>362</td>\n",
       "      <td>91</td>\n",
       "      <td>89</td>\n",
       "      <td>14</td>\n",
       "      <td>1.0</td>\n",
       "      <td>True</td>\n",
       "    </tr>\n",
       "    <tr>\n",
       "      <th>S041</th>\n",
       "      <td>14</td>\n",
       "      <td>0</td>\n",
       "      <td>0.000119</td>\n",
       "      <td>0.001617</td>\n",
       "      <td>17.711456</td>\n",
       "      <td>13.880218</td>\n",
       "      <td>30.243281</td>\n",
       "      <td>0</td>\n",
       "      <td>0</td>\n",
       "      <td>362</td>\n",
       "      <td>91</td>\n",
       "      <td>89</td>\n",
       "      <td>14</td>\n",
       "      <td>1.0</td>\n",
       "      <td>True</td>\n",
       "    </tr>\n",
       "    <tr>\n",
       "      <th>S047</th>\n",
       "      <td>14</td>\n",
       "      <td>0</td>\n",
       "      <td>0.001520</td>\n",
       "      <td>0.021260</td>\n",
       "      <td>19.599043</td>\n",
       "      <td>14.367789</td>\n",
       "      <td>57.282272</td>\n",
       "      <td>0</td>\n",
       "      <td>0</td>\n",
       "      <td>362</td>\n",
       "      <td>93</td>\n",
       "      <td>87</td>\n",
       "      <td>14</td>\n",
       "      <td>1.0</td>\n",
       "      <td>True</td>\n",
       "    </tr>\n",
       "    <tr>\n",
       "      <th>S050</th>\n",
       "      <td>14</td>\n",
       "      <td>0</td>\n",
       "      <td>0.000383</td>\n",
       "      <td>0.001633</td>\n",
       "      <td>28.087310</td>\n",
       "      <td>23.595024</td>\n",
       "      <td>32.402089</td>\n",
       "      <td>0</td>\n",
       "      <td>0</td>\n",
       "      <td>362</td>\n",
       "      <td>94</td>\n",
       "      <td>86</td>\n",
       "      <td>14</td>\n",
       "      <td>1.0</td>\n",
       "      <td>True</td>\n",
       "    </tr>\n",
       "    <tr>\n",
       "      <th>S051</th>\n",
       "      <td>14</td>\n",
       "      <td>0</td>\n",
       "      <td>0.000273</td>\n",
       "      <td>0.002930</td>\n",
       "      <td>16.313872</td>\n",
       "      <td>12.330567</td>\n",
       "      <td>26.849407</td>\n",
       "      <td>0</td>\n",
       "      <td>0</td>\n",
       "      <td>362</td>\n",
       "      <td>90</td>\n",
       "      <td>90</td>\n",
       "      <td>14</td>\n",
       "      <td>1.0</td>\n",
       "      <td>True</td>\n",
       "    </tr>\n",
       "  </tbody>\n",
       "</table>\n",
       "</div>"
      ],
      "text/plain": [
       "         total_runs  bad_runs  avg_clip_fraction  max_clip_fraction  \\\n",
       "subject                                                               \n",
       "S055             14         0           0.000533           0.005699   \n",
       "S033             14         0           0.006085           0.010631   \n",
       "S030             14         0           0.000772           0.010678   \n",
       "S037             14         0           0.000045           0.000592   \n",
       "S038             14         0           0.003130           0.012759   \n",
       "S026             14         0           0.000461           0.004979   \n",
       "S041             14         0           0.000119           0.001617   \n",
       "S047             14         0           0.001520           0.021260   \n",
       "S050             14         0           0.000383           0.001633   \n",
       "S051             14         0           0.000273           0.002930   \n",
       "\n",
       "         median_std_uv  min_std_uv  max_std_uv  flat_runs  noisy_runs  \\\n",
       "subject                                                                 \n",
       "S055         22.309502   19.495043   44.970265          0           0   \n",
       "S033         31.609807   23.304985   34.721158          0           0   \n",
       "S030         25.045487   19.759845   58.674286          0           0   \n",
       "S037         12.906979   11.547798   28.633399          0           0   \n",
       "S038         30.589816   29.470567   48.726766          0           0   \n",
       "S026         21.007389   18.276480   37.975859          0           0   \n",
       "S041         17.711456   13.880218   30.243281          0           0   \n",
       "S047         19.599043   14.367789   57.282272          0           0   \n",
       "S050         28.087310   23.595024   32.402089          0           0   \n",
       "S051         16.313872   12.330567   26.849407          0           0   \n",
       "\n",
       "         total_events  total_label_1  total_label_2  good_runs  good_ratio  \\\n",
       "subject                                                                      \n",
       "S055              362             91             89         14         1.0   \n",
       "S033              362             87             93         14         1.0   \n",
       "S030              362             92             88         14         1.0   \n",
       "S037              362             90             90         14         1.0   \n",
       "S038              362             92             88         14         1.0   \n",
       "S026              362             91             89         14         1.0   \n",
       "S041              362             91             89         14         1.0   \n",
       "S047              362             93             87         14         1.0   \n",
       "S050              362             94             86         14         1.0   \n",
       "S051              362             90             90         14         1.0   \n",
       "\n",
       "         is_good_subject  \n",
       "subject                   \n",
       "S055                True  \n",
       "S033                True  \n",
       "S030                True  \n",
       "S037                True  \n",
       "S038                True  \n",
       "S026                True  \n",
       "S041                True  \n",
       "S047                True  \n",
       "S050                True  \n",
       "S051                True  "
      ]
     },
     "execution_count": 5,
     "metadata": {},
     "output_type": "execute_result"
    }
   ],
   "source": [
    "MIN_GOOD_RUNS = 10\n",
    "MIN_GOOD_RATIO = 0.70\n",
    "\n",
    "subject_quality = (\n",
    "    RUN_DF.groupby('subject')\n",
    "          .agg(\n",
    "              total_runs=('run', 'count'),\n",
    "              bad_runs=('bad_run', 'sum'),\n",
    "              avg_clip_fraction=('clip_fraction_over_200uv', 'mean'),\n",
    "              max_clip_fraction=('clip_fraction_over_200uv', 'max'),\n",
    "              median_std_uv=('mean_channel_std_uv', 'median'),\n",
    "              min_std_uv=('mean_channel_std_uv', 'min'),\n",
    "              max_std_uv=('mean_channel_std_uv', 'max'),\n",
    "              flat_runs=('has_flat_issue', 'sum'),\n",
    "              noisy_runs=('has_noisy_issue', 'sum'),\n",
    "              total_events=('events_total', 'sum'),\n",
    "              total_label_1=('events_label_1', 'sum'),\n",
    "              total_label_2=('events_label_2', 'sum')\n",
    "          )\n",
    "          .assign(\n",
    "              good_runs=lambda df: df['total_runs'] - df['bad_runs'],\n",
    "              good_ratio=lambda df: df['good_runs'] / df['total_runs']\n",
    "          )\n",
    ")\n",
    "\n",
    "subject_quality['is_good_subject'] = (\n",
    "    (subject_quality['good_runs'] >= MIN_GOOD_RUNS)\n",
    "    & (subject_quality['good_ratio'] >= MIN_GOOD_RATIO)\n",
    ")\n",
    "\n",
    "print(f\"\\nSubject quality thresholds:\")\n",
    "print(f\"  - Minimum good runs: {MIN_GOOD_RUNS}\")\n",
    "print(f\"  - Minimum good ratio: {MIN_GOOD_RATIO}\")\n",
    "print(f\"\\nSubject statistics:\")\n",
    "print(f\"  - Total subjects: {len(subject_quality)}\")\n",
    "print(f\"  - Good subjects: {subject_quality['is_good_subject'].sum()}\")\n",
    "print(f\"  - Bad subjects: {(~subject_quality['is_good_subject']).sum()}\")\n",
    "\n",
    "subject_quality.sort_values('good_ratio', ascending=False).head(10)"
   ]
  },
  {
   "cell_type": "code",
   "execution_count": 6,
   "id": "ebfe9243",
   "metadata": {},
   "outputs": [
    {
     "name": "stderr",
     "output_type": "stream",
     "text": [
      "C:\\Users\\SHIVAPREETHAM ROHITH\\AppData\\Local\\Temp\\ipykernel_32004\\2830987514.py:5: FutureWarning: \n",
      "\n",
      "Passing `palette` without assigning `hue` is deprecated and will be removed in v0.14.0. Assign the `x` variable to `hue` and set `legend=False` for the same effect.\n",
      "\n",
      "  sns.barplot(data=summary_counts, x='is_good', y='subjects', palette=['#d62728', '#2ca02c'], ax=axes[0])\n"
     ]
    },
    {
     "data": {
      "image/png": "[encoded data removed]",
      "text/plain": [
       "<Figure size 1400x500 with 2 Axes>"
      ]
     },
     "metadata": {},
     "output_type": "display_data"
    },
    {
     "data": {
      "text/html": [
       "<div>\n",
       "<style scoped>\n",
       "    .dataframe tbody tr th:only-of-type {\n",
       "        vertical-align: middle;\n",
       "    }\n",
       "\n",
       "    .dataframe tbody tr th {\n",
       "        vertical-align: top;\n",
       "    }\n",
       "\n",
       "    .dataframe thead th {\n",
       "        text-align: right;\n",
       "    }\n",
       "</style>\n",
       "<table border=\"1\" class=\"dataframe\">\n",
       "  <thead>\n",
       "    <tr style=\"text-align: right;\">\n",
       "      <th></th>\n",
       "      <th>is_good</th>\n",
       "      <th>subjects</th>\n",
       "    </tr>\n",
       "  </thead>\n",
       "  <tbody>\n",
       "    <tr>\n",
       "      <th>0</th>\n",
       "      <td>False</td>\n",
       "      <td>58</td>\n",
       "    </tr>\n",
       "    <tr>\n",
       "      <th>1</th>\n",
       "      <td>True</td>\n",
       "      <td>51</td>\n",
       "    </tr>\n",
       "  </tbody>\n",
       "</table>\n",
       "</div>"
      ],
      "text/plain": [
       "   is_good  subjects\n",
       "0    False        58\n",
       "1     True        51"
      ]
     },
     "execution_count": 6,
     "metadata": {},
     "output_type": "execute_result"
    }
   ],
   "source": [
    "summary_counts = subject_quality['is_good_subject'].value_counts().rename_axis('is_good').reset_index(name='subjects')\n",
    "\n",
    "fig, axes = plt.subplots(1, 2, figsize=(14, 5))\n",
    "\n",
    "sns.barplot(data=summary_counts, x='is_good', y='subjects', palette=['#d62728', '#2ca02c'], ax=axes[0])\n",
    "axes[0].set_title('Subject Quality Distribution')\n",
    "axes[0].set_xlabel('Is Good Subject')\n",
    "axes[0].set_ylabel('Number of Subjects')\n",
    "for i, row in summary_counts.iterrows():\n",
    "    axes[0].text(i, row['subjects'] + 1, f\"{row['subjects']}\", ha='center', fontsize=11, fontweight='bold')\n",
    "\n",
    "axes[1].hist(subject_quality['good_ratio'], bins=20, color='steelblue', edgecolor='black', alpha=0.7)\n",
    "axes[1].axvline(MIN_GOOD_RATIO, color='red', linestyle='--', linewidth=2, label=f'Threshold = {MIN_GOOD_RATIO}')\n",
    "axes[1].set_title('Distribution of Good Run Ratios')\n",
    "axes[1].set_xlabel('Good Run Ratio')\n",
    "axes[1].set_ylabel('Number of Subjects')\n",
    "axes[1].legend()\n",
    "axes[1].grid(True, alpha=0.3)\n",
    "\n",
    "plt.tight_layout()\n",
    "plt.show()\n",
    "\n",
    "summary_counts"
   ]
  },
  {
   "cell_type": "markdown",
   "id": "0ced7f87",
   "metadata": {},
   "source": [
    "\n",
    "## Filtered inventories\n"
   ]
  },
  {
   "cell_type": "code",
   "execution_count": 7,
   "id": "d61ed36c",
   "metadata": {},
   "outputs": [
    {
     "name": "stdout",
     "output_type": "stream",
     "text": [
      "Retained 51 subjects with at least 10 clean runs each.\n",
      "Retained 669 runs across retained subjects.\n",
      "Total runs filtered out: 857\n",
      "\n",
      "Good runs by category:\n",
      "category\n",
      "motor_execution    292\n",
      "motor_imagery      295\n",
      "resting_state       82\n",
      "Name: run, dtype: int64\n",
      "\n",
      "Event distribution in good runs:\n",
      "  - Total events: 17804\n",
      "  - Label 1 events: 4441\n",
      "  - Label 2 events: 4421\n"
     ]
    },
    {
     "data": {
      "text/html": [
       "<div>\n",
       "<style scoped>\n",
       "    .dataframe tbody tr th:only-of-type {\n",
       "        vertical-align: middle;\n",
       "    }\n",
       "\n",
       "    .dataframe tbody tr th {\n",
       "        vertical-align: top;\n",
       "    }\n",
       "\n",
       "    .dataframe thead th {\n",
       "        text-align: right;\n",
       "    }\n",
       "</style>\n",
       "<table border=\"1\" class=\"dataframe\">\n",
       "  <thead>\n",
       "    <tr style=\"text-align: right;\">\n",
       "      <th></th>\n",
       "      <th>subject</th>\n",
       "      <th>run</th>\n",
       "      <th>category</th>\n",
       "      <th>task</th>\n",
       "      <th>mean_channel_std_uv</th>\n",
       "      <th>clip_fraction_over_200uv</th>\n",
       "    </tr>\n",
       "  </thead>\n",
       "  <tbody>\n",
       "    <tr>\n",
       "      <th>0</th>\n",
       "      <td>S001</td>\n",
       "      <td>R01</td>\n",
       "      <td>resting_state</td>\n",
       "      <td>Baseline eyes open</td>\n",
       "      <td>56.076575</td>\n",
       "      <td>0.010966</td>\n",
       "    </tr>\n",
       "    <tr>\n",
       "      <th>1</th>\n",
       "      <td>S001</td>\n",
       "      <td>R02</td>\n",
       "      <td>resting_state</td>\n",
       "      <td>Baseline eyes closed</td>\n",
       "      <td>52.817654</td>\n",
       "      <td>0.001201</td>\n",
       "    </tr>\n",
       "    <tr>\n",
       "      <th>3</th>\n",
       "      <td>S001</td>\n",
       "      <td>R04</td>\n",
       "      <td>motor_execution</td>\n",
       "      <td>Open/close right fist (executed)</td>\n",
       "      <td>52.817273</td>\n",
       "      <td>0.003086</td>\n",
       "    </tr>\n",
       "    <tr>\n",
       "      <th>4</th>\n",
       "      <td>S001</td>\n",
       "      <td>R05</td>\n",
       "      <td>motor_execution</td>\n",
       "      <td>Open/close both fists (executed)</td>\n",
       "      <td>55.644805</td>\n",
       "      <td>0.008469</td>\n",
       "    </tr>\n",
       "    <tr>\n",
       "      <th>5</th>\n",
       "      <td>S001</td>\n",
       "      <td>R06</td>\n",
       "      <td>motor_execution</td>\n",
       "      <td>Open/close both feet (executed)</td>\n",
       "      <td>66.177996</td>\n",
       "      <td>0.020742</td>\n",
       "    </tr>\n",
       "    <tr>\n",
       "      <th>6</th>\n",
       "      <td>S001</td>\n",
       "      <td>R07</td>\n",
       "      <td>motor_imagery</td>\n",
       "      <td>Imagine left fist</td>\n",
       "      <td>55.639209</td>\n",
       "      <td>0.009656</td>\n",
       "    </tr>\n",
       "    <tr>\n",
       "      <th>7</th>\n",
       "      <td>S001</td>\n",
       "      <td>R08</td>\n",
       "      <td>motor_imagery</td>\n",
       "      <td>Imagine right fist</td>\n",
       "      <td>50.814924</td>\n",
       "      <td>0.004297</td>\n",
       "    </tr>\n",
       "    <tr>\n",
       "      <th>8</th>\n",
       "      <td>S001</td>\n",
       "      <td>R09</td>\n",
       "      <td>motor_imagery</td>\n",
       "      <td>Imagine both fists</td>\n",
       "      <td>58.917510</td>\n",
       "      <td>0.010750</td>\n",
       "    </tr>\n",
       "    <tr>\n",
       "      <th>9</th>\n",
       "      <td>S001</td>\n",
       "      <td>R10</td>\n",
       "      <td>motor_imagery</td>\n",
       "      <td>Imagine both feet</td>\n",
       "      <td>54.463445</td>\n",
       "      <td>0.006406</td>\n",
       "    </tr>\n",
       "    <tr>\n",
       "      <th>10</th>\n",
       "      <td>S001</td>\n",
       "      <td>R11</td>\n",
       "      <td>motor_execution</td>\n",
       "      <td>Alternate fists and feet (executed)</td>\n",
       "      <td>66.935085</td>\n",
       "      <td>0.018078</td>\n",
       "    </tr>\n",
       "  </tbody>\n",
       "</table>\n",
       "</div>"
      ],
      "text/plain": [
       "   subject  run         category                                 task  \\\n",
       "0     S001  R01    resting_state                   Baseline eyes open   \n",
       "1     S001  R02    resting_state                 Baseline eyes closed   \n",
       "3     S001  R04  motor_execution     Open/close right fist (executed)   \n",
       "4     S001  R05  motor_execution     Open/close both fists (executed)   \n",
       "5     S001  R06  motor_execution      Open/close both feet (executed)   \n",
       "6     S001  R07    motor_imagery                    Imagine left fist   \n",
       "7     S001  R08    motor_imagery                   Imagine right fist   \n",
       "8     S001  R09    motor_imagery                   Imagine both fists   \n",
       "9     S001  R10    motor_imagery                    Imagine both feet   \n",
       "10    S001  R11  motor_execution  Alternate fists and feet (executed)   \n",
       "\n",
       "    mean_channel_std_uv  clip_fraction_over_200uv  \n",
       "0             56.076575                  0.010966  \n",
       "1             52.817654                  0.001201  \n",
       "3             52.817273                  0.003086  \n",
       "4             55.644805                  0.008469  \n",
       "5             66.177996                  0.020742  \n",
       "6             55.639209                  0.009656  \n",
       "7             50.814924                  0.004297  \n",
       "8             58.917510                  0.010750  \n",
       "9             54.463445                  0.006406  \n",
       "10            66.935085                  0.018078  "
      ]
     },
     "execution_count": 7,
     "metadata": {},
     "output_type": "execute_result"
    }
   ],
   "source": [
    "good_subjects = subject_quality[subject_quality['is_good_subject']].index.tolist()\n",
    "good_runs_df = RUN_DF.loc[(~RUN_DF['bad_run']) & (RUN_DF['subject'].isin(good_subjects))].copy()\n",
    "\n",
    "print(f\"Retained {len(good_subjects)} subjects with at least {MIN_GOOD_RUNS} clean runs each.\")\n",
    "print(f\"Retained {good_runs_df.shape[0]} runs across retained subjects.\")\n",
    "print(f\"Total runs filtered out: {len(RUN_DF) - len(good_runs_df)}\")\n",
    "print(f\"\\nGood runs by category:\")\n",
    "print(good_runs_df.groupby('category')['run'].count())\n",
    "print(f\"\\nEvent distribution in good runs:\")\n",
    "print(f\"  - Total events: {good_runs_df['events_total'].sum()}\")\n",
    "print(f\"  - Label 1 events: {good_runs_df['events_label_1'].sum()}\")\n",
    "print(f\"  - Label 2 events: {good_runs_df['events_label_2'].sum()}\")\n",
    "\n",
    "good_runs_df[['subject', 'run', 'category', 'task', 'mean_channel_std_uv', 'clip_fraction_over_200uv']].head(10)"
   ]
  },
  {
   "cell_type": "markdown",
   "id": "2617f5b3",
   "metadata": {},
   "source": [
    "\n",
    "## Export artefacts\n"
   ]
  },
  {
   "cell_type": "code",
   "execution_count": 8,
   "id": "443b7cf7",
   "metadata": {},
   "outputs": [
    {
     "name": "stdout",
     "output_type": "stream",
     "text": [
      "Saved cleaned run inventory -> data\\physionet\\derived\\physionet_good_runs.csv\n",
      "  - Total good runs: 669\n",
      "\n",
      "Saved subject summary -> data\\physionet\\derived\\physionet_good_subjects.csv\n",
      "  - Total subjects analyzed: 109\n",
      "  - Good subjects: 51\n",
      "\n",
      "Saved all runs with quality flags -> data\\physionet\\derived\\physionet_all_runs_with_flags.csv\n",
      "  - Total runs: 1526\n",
      "\n",
      "Cleaning complete!\n"
     ]
    }
   ],
   "source": [
    "GOOD_RUNS_PATH = DERIVED_DIR / 'physionet_good_runs.csv'\n",
    "GOOD_SUBJECTS_PATH = DERIVED_DIR / 'physionet_good_subjects.csv'\n",
    "ALL_RUNS_WITH_FLAGS_PATH = DERIVED_DIR / 'physionet_all_runs_with_flags.csv'\n",
    "\n",
    "good_runs_df.sort_values(['subject', 'run']).to_csv(GOOD_RUNS_PATH, index=False)\n",
    "subject_quality.reset_index().to_csv(GOOD_SUBJECTS_PATH, index=False)\n",
    "RUN_DF.sort_values(['subject', 'run']).to_csv(ALL_RUNS_WITH_FLAGS_PATH, index=False)\n",
    "\n",
    "print(f\"Saved cleaned run inventory -> {GOOD_RUNS_PATH}\")\n",
    "print(f\"  - Total good runs: {len(good_runs_df)}\")\n",
    "print(f\"\\nSaved subject summary -> {GOOD_SUBJECTS_PATH}\")\n",
    "print(f\"  - Total subjects analyzed: {len(subject_quality)}\")\n",
    "print(f\"  - Good subjects: {subject_quality['is_good_subject'].sum()}\")\n",
    "print(f\"\\nSaved all runs with quality flags -> {ALL_RUNS_WITH_FLAGS_PATH}\")\n",
    "print(f\"  - Total runs: {len(RUN_DF)}\")\n",
    "print(f\"\\nCleaning complete!\")"
   ]
  },
  {
   "cell_type": "markdown",
   "id": "26c54b37",
   "metadata": {},
   "source": [
    "## Summary and Next Steps\n",
    "\n",
    "This notebook performs comprehensive data cleaning on the PhysioNet Motor Imagery dataset:\n",
    "\n",
    "1. **Quality Metrics Computed:**\n",
    "   - Z-scores for amplitude and spectral features\n",
    "   - Amplitude issue flags (flat/noisy channels, clipping)\n",
    "   - Bad run detection based on multiple criteria\n",
    "\n",
    "2. **Filtering Criteria:**\n",
    "   - **Run-level:** Excludes runs with amplitude issues, high clipping (>5%), or extreme z-scores (>3.0)\n",
    "   - **Subject-level:** Retains subjects with at least 10 good runs and a good run ratio ≥70%\n",
    "\n",
    "3. **Outputs Generated:**\n",
    "   - `physionet_good_runs.csv` - Clean run inventory for downstream modeling\n",
    "   - `physionet_good_subjects.csv` - Subject-level quality summary\n",
    "   - `physionet_all_runs_with_flags.csv` - All runs with quality flags for reference\n",
    "\n",
    "4. **Next Steps:**\n",
    "   - Use `physionet_good_runs.csv` in the preprocessing pipeline\n",
    "   - Apply bandpass filtering, epoching, and artifact rejection\n",
    "   - Extract features and build subject-specific models\n",
    "   - Implement channel selection algorithms (CARM, mutual information, etc.)"
   ]
  },
  {
   "cell_type": "markdown",
   "id": "0s8aq91x3fg",
   "metadata": {},
   "source": [
    "## Additional quality analysis and visualizations"
   ]
  },
  {
   "cell_type": "code",
   "execution_count": 9,
   "id": "ujs5ssfzuu",
   "metadata": {},
   "outputs": [
    {
     "data": {
      "application/vnd.plotly.v1+json": {
       "config": {
        "plotlyServerURL": "https://plot.ly"
       },
       "data": [
        {
         "name": "resting_state",
         "type": "box",
         "xaxis": "x",
         "y": {
          "bdata": "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",
          "dtype": "f8"
         },
         "yaxis": "y"
        },
        {
         "name": "motor_execution",
         "type": "box",
         "xaxis": "x",
         "y": {
          "bdata": "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",
          "dtype": "f8"
         },
         "yaxis": "y"
        },
        {
         "name": "motor_imagery",
         "type": "box",
         "xaxis": "x",
         "y": {
          "bdata": "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",
          "dtype": "f8"
         },
         "yaxis": "y"
        },
        {
         "name": "Clip Fraction",
         "nbinsx": 50,
         "type": "histogram",
         "x": {
          "bdata": "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",
          "dtype": "f8"
         },
         "xaxis": "x2",
         "yaxis": "y2"
        },
        {
         "name": "Z-Score",
         "nbinsx": 50,
         "type": "histogram",
         "x": {
          "bdata": "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",
          "dtype": "f8"
         },
         "xaxis": "x3",
         "yaxis": "y3"
        },
        {
         "name": "Bad Runs",
         "type": "bar",
         "x": [
          "motor_execution",
          "motor_imagery",
          "resting_state"
         ],
         "xaxis": "x4",
         "y": {
          "bdata": "NAFHAWUA",
          "dtype": "i2"
         },
         "yaxis": "y4"
        }
       ],
       "layout": {
        "annotations": [
         {
          "font": {
           "size": 16
          },
          "showarrow": false,
          "text": "Mean Channel Std by Category",
          "x": 0.225,
          "xanchor": "center",
          "xref": "paper",
          "y": 1,
          "yanchor": "bottom",
          "yref": "paper"
         },
         {
          "font": {
           "size": 16
          },
          "showarrow": false,
          "text": "Clip Fraction Distribution",
          "x": 0.775,
          "xanchor": "center",
          "xref": "paper",
          "y": 1,
          "yanchor": "bottom",
          "yref": "paper"
         },
         {
          "font": {
           "size": 16
          },
          "showarrow": false,
          "text": "Z-Score Distribution",
          "x": 0.225,
          "xanchor": "center",
          "xref": "paper",
          "y": 0.375,
          "yanchor": "bottom",
          "yref": "paper"
         },
         {
          "font": {
           "size": 16
          },
          "showarrow": false,
          "text": "Bad Runs by Category",
          "x": 0.775,
          "xanchor": "center",
          "xref": "paper",
          "y": 0.375,
          "yanchor": "bottom",
          "yref": "paper"
         }
        ],
        "height": 800,
        "shapes": [
         {
          "line": {
           "color": "red",
           "dash": "dash"
          },
          "type": "line",
          "x0": 0.05,
          "x1": 0.05,
          "xref": "x2",
          "y0": 0,
          "y1": 1,
          "yref": "y2 domain"
         },
         {
          "line": {
           "color": "red",
           "dash": "dash"
          },
          "type": "line",
          "x0": 3,
          "x1": 3,
          "xref": "x3",
          "y0": 0,
          "y1": 1,
          "yref": "y3 domain"
         }
        ],
        "showlegend": false,
        "template": {
         "data": {
          "bar": [
           {
            "error_x": {
             "color": "#2a3f5f"
            },
            "error_y": {
             "color": "#2a3f5f"
            },
            "marker": {
             "line": {
              "color": "#E5ECF6",
              "width": 0.5
             },
             "pattern": {
              "fillmode": "overlay",
              "size": 10,
              "solidity": 0.2
             }
            },
            "type": "bar"
           }
          ],
          "barpolar": [
           {
            "marker": {
             "line": {
              "color": "#E5ECF6",
              "width": 0.5
             },
             "pattern": {
              "fillmode": "overlay",
              "size": 10,
              "solidity": 0.2
             }
            },
            "type": "barpolar"
           }
          ],
          "carpet": [
           {
            "aaxis": {
             "endlinecolor": "#2a3f5f",
             "gridcolor": "white",
             "linecolor": "white",
             "minorgridcolor": "white",
             "startlinecolor": "#2a3f5f"
            },
            "baxis": {
             "endlinecolor": "#2a3f5f",
             "gridcolor": "white",
             "linecolor": "white",
             "minorgridcolor": "white",
             "startlinecolor": "#2a3f5f"
            },
            "type": "carpet"
           }
          ],
          "choropleth": [
           {
            "colorbar": {
             "outlinewidth": 0,
             "ticks": ""
            },
            "type": "choropleth"
           }
          ],
          "contour": [
           {
            "colorbar": {
             "outlinewidth": 0,
             "ticks": ""
            },
            "colorscale": [
             [
              0,
              "#0d0887"
             ],
             [
              0.1111111111111111,
              "#46039f"
             ],
             [
              0.2222222222222222,
              "#7201a8"
             ],
             [
              0.3333333333333333,
              "#9c179e"
             ],
             [
              0.4444444444444444,
              "#bd3786"
             ],
             [
              0.5555555555555556,
              "#d8576b"
             ],
             [
              0.6666666666666666,
              "#ed7953"
             ],
             [
              0.7777777777777778,
              "#fb9f3a"
             ],
             [
              0.8888888888888888,
              "#fdca26"
             ],
             [
              1,
              "#f0f921"
             ]
            ],
            "type": "contour"
           }
          ],
          "contourcarpet": [
           {
            "colorbar": {
             "outlinewidth": 0,
             "ticks": ""
            },
            "type": "contourcarpet"
           }
          ],
          "heatmap": [
           {
            "colorbar": {
             "outlinewidth": 0,
             "ticks": ""
            },
            "colorscale": [
             [
              0,
              "#0d0887"
             ],
             [
              0.1111111111111111,
              "#46039f"
             ],
             [
              0.2222222222222222,
              "#7201a8"
             ],
             [
              0.3333333333333333,
              "#9c179e"
             ],
             [
              0.4444444444444444,
              "#bd3786"
             ],
             [
              0.5555555555555556,
              "#d8576b"
             ],
             [
              0.6666666666666666,
              "#ed7953"
             ],
             [
              0.7777777777777778,
              "#fb9f3a"
             ],
             [
              0.8888888888888888,
              "#fdca26"
             ],
             [
              1,
              "#f0f921"
             ]
            ],
            "type": "heatmap"
           }
          ],
          "histogram": [
           {
            "marker": {
             "pattern": {
              "fillmode": "overlay",
              "size": 10,
              "solidity": 0.2
             }
            },
            "type": "histogram"
           }
          ],
          "histogram2d": [
           {
            "colorbar": {
             "outlinewidth": 0,
             "ticks": ""
            },
            "colorscale": [
             [
              0,
              "#0d0887"
             ],
             [
              0.1111111111111111,
              "#46039f"
             ],
             [
              0.2222222222222222,
              "#7201a8"
             ],
             [
              0.3333333333333333,
              "#9c179e"
             ],
             [
              0.4444444444444444,
              "#bd3786"
             ],
             [
              0.5555555555555556,
              "#d8576b"
             ],
             [
              0.6666666666666666,
              "#ed7953"
             ],
             [
              0.7777777777777778,
              "#fb9f3a"
             ],
             [
              0.8888888888888888,
              "#fdca26"
             ],
             [
              1,
              "#f0f921"
             ]
            ],
            "type": "histogram2d"
           }
          ],
          "histogram2dcontour": [
           {
            "colorbar": {
             "outlinewidth": 0,
             "ticks": ""
            },
            "colorscale": [
             [
              0,
              "#0d0887"
             ],
             [
              0.1111111111111111,
              "#46039f"
             ],
             [
              0.2222222222222222,
              "#7201a8"
             ],
             [
              0.3333333333333333,
              "#9c179e"
             ],
             [
              0.4444444444444444,
              "#bd3786"
             ],
             [
              0.5555555555555556,
              "#d8576b"
             ],
             [
              0.6666666666666666,
              "#ed7953"
             ],
             [
              0.7777777777777778,
              "#fb9f3a"
             ],
             [
              0.8888888888888888,
              "#fdca26"
             ],
             [
              1,
              "#f0f921"
             ]
            ],
            "type": "histogram2dcontour"
           }
          ],
          "mesh3d": [
           {
            "colorbar": {
             "outlinewidth": 0,
             "ticks": ""
            },
            "type": "mesh3d"
           }
          ],
          "parcoords": [
           {
            "line": {
             "colorbar": {
              "outlinewidth": 0,
              "ticks": ""
             }
            },
            "type": "parcoords"
           }
          ],
          "pie": [
           {
            "automargin": true,
            "type": "pie"
           }
          ],
          "scatter": [
           {
            "fillpattern": {
             "fillmode": "overlay",
             "size": 10,
             "solidity": 0.2
            },
            "type": "scatter"
           }
          ],
          "scatter3d": [
           {
            "line": {
             "colorbar": {
              "outlinewidth": 0,
              "ticks": ""
             }
            },
            "marker": {
             "colorbar": {
              "outlinewidth": 0,
              "ticks": ""
             }
            },
            "type": "scatter3d"
           }
          ],
          "scattercarpet": [
           {
            "marker": {
             "colorbar": {
              "outlinewidth": 0,
              "ticks": ""
             }
            },
            "type": "scattercarpet"
           }
          ],
          "scattergeo": [
           {
            "marker": {
             "colorbar": {
              "outlinewidth": 0,
              "ticks": ""
             }
            },
            "type": "scattergeo"
           }
          ],
          "scattergl": [
           {
            "marker": {
             "colorbar": {
              "outlinewidth": 0,
              "ticks": ""
             }
            },
            "type": "scattergl"
           }
          ],
          "scattermap": [
           {
            "marker": {
             "colorbar": {
              "outlinewidth": 0,
              "ticks": ""
             }
            },
            "type": "scattermap"
           }
          ],
          "scattermapbox": [
           {
            "marker": {
             "colorbar": {
              "outlinewidth": 0,
              "ticks": ""
             }
            },
            "type": "scattermapbox"
           }
          ],
          "scatterpolar": [
           {
            "marker": {
             "colorbar": {
              "outlinewidth": 0,
              "ticks": ""
             }
            },
            "type": "scatterpolar"
           }
          ],
          "scatterpolargl": [
           {
            "marker": {
             "colorbar": {
              "outlinewidth": 0,
              "ticks": ""
             }
            },
            "type": "scatterpolargl"
           }
          ],
          "scatterternary": [
           {
            "marker": {
             "colorbar": {
              "outlinewidth": 0,
              "ticks": ""
             }
            },
            "type": "scatterternary"
           }
          ],
          "surface": [
           {
            "colorbar": {
             "outlinewidth": 0,
             "ticks": ""
            },
            "colorscale": [
             [
              0,
              "#0d0887"
             ],
             [
              0.1111111111111111,
              "#46039f"
             ],
             [
              0.2222222222222222,
              "#7201a8"
             ],
             [
              0.3333333333333333,
              "#9c179e"
             ],
             [
              0.4444444444444444,
              "#bd3786"
             ],
             [
              0.5555555555555556,
              "#d8576b"
             ],
             [
              0.6666666666666666,
              "#ed7953"
             ],
             [
              0.7777777777777778,
              "#fb9f3a"
             ],
             [
              0.8888888888888888,
              "#fdca26"
             ],
             [
              1,
              "#f0f921"
             ]
            ],
            "type": "surface"
           }
          ],
          "table": [
           {
            "cells": {
             "fill": {
              "color": "#EBF0F8"
             },
             "line": {
              "color": "white"
             }
            },
            "header": {
             "fill": {
              "color": "#C8D4E3"
             },
             "line": {
              "color": "white"
             }
            },
            "type": "table"
           }
          ]
         },
         "layout": {
          "annotationdefaults": {
           "arrowcolor": "#2a3f5f",
           "arrowhead": 0,
           "arrowwidth": 1
          },
          "autotypenumbers": "strict",
          "coloraxis": {
           "colorbar": {
            "outlinewidth": 0,
            "ticks": ""
           }
          },
          "colorscale": {
           "diverging": [
            [
             0,
             "#8e0152"
            ],
            [
             0.1,
             "#c51b7d"
            ],
            [
             0.2,
             "#de77ae"
            ],
            [
             0.3,
             "#f1b6da"
            ],
            [
             0.4,
             "#fde0ef"
            ],
            [
             0.5,
             "#f7f7f7"
            ],
            [
             0.6,
             "#e6f5d0"
            ],
            [
             0.7,
             "#b8e186"
            ],
            [
             0.8,
             "#7fbc41"
            ],
            [
             0.9,
             "#4d9221"
            ],
            [
             1,
             "#276419"
            ]
           ],
           "sequential": [
            [
             0,
             "#0d0887"
            ],
            [
             0.1111111111111111,
             "#46039f"
            ],
            [
             0.2222222222222222,
             "#7201a8"
            ],
            [
             0.3333333333333333,
             "#9c179e"
            ],
            [
             0.4444444444444444,
             "#bd3786"
            ],
            [
             0.5555555555555556,
             "#d8576b"
            ],
            [
             0.6666666666666666,
             "#ed7953"
            ],
            [
             0.7777777777777778,
             "#fb9f3a"
            ],
            [
             0.8888888888888888,
             "#fdca26"
            ],
            [
             1,
             "#f0f921"
            ]
           ],
           "sequentialminus": [
            [
             0,
             "#0d0887"
            ],
            [
             0.1111111111111111,
             "#46039f"
            ],
            [
             0.2222222222222222,
             "#7201a8"
            ],
            [
             0.3333333333333333,
             "#9c179e"
            ],
            [
             0.4444444444444444,
             "#bd3786"
            ],
            [
             0.5555555555555556,
             "#d8576b"
            ],
            [
             0.6666666666666666,
             "#ed7953"
            ],
            [
             0.7777777777777778,
             "#fb9f3a"
            ],
            [
             0.8888888888888888,
             "#fdca26"
            ],
            [
             1,
             "#f0f921"
            ]
           ]
          },
          "colorway": [
           "#636efa",
           "#EF553B",
           "#00cc96",
           "#ab63fa",
           "#FFA15A",
           "#19d3f3",
           "#FF6692",
           "#B6E880",
           "#FF97FF",
           "#FECB52"
          ],
          "font": {
           "color": "#2a3f5f"
          },
          "geo": {
           "bgcolor": "white",
           "lakecolor": "white",
           "landcolor": "#E5ECF6",
           "showlakes": true,
           "showland": true,
           "subunitcolor": "white"
          },
          "hoverlabel": {
           "align": "left"
          },
          "hovermode": "closest",
          "mapbox": {
           "style": "light"
          },
          "paper_bgcolor": "white",
          "plot_bgcolor": "#E5ECF6",
          "polar": {
           "angularaxis": {
            "gridcolor": "white",
            "linecolor": "white",
            "ticks": ""
           },
           "bgcolor": "#E5ECF6",
           "radialaxis": {
            "gridcolor": "white",
            "linecolor": "white",
            "ticks": ""
           }
          },
          "scene": {
           "xaxis": {
            "backgroundcolor": "#E5ECF6",
            "gridcolor": "white",
            "gridwidth": 2,
            "linecolor": "white",
            "showbackground": true,
            "ticks": "",
            "zerolinecolor": "white"
           },
           "yaxis": {
            "backgroundcolor": "#E5ECF6",
            "gridcolor": "white",
            "gridwidth": 2,
            "linecolor": "white",
            "showbackground": true,
            "ticks": "",
            "zerolinecolor": "white"
           },
           "zaxis": {
            "backgroundcolor": "#E5ECF6",
            "gridcolor": "white",
            "gridwidth": 2,
            "linecolor": "white",
            "showbackground": true,
            "ticks": "",
            "zerolinecolor": "white"
           }
          },
          "shapedefaults": {
           "line": {
            "color": "#2a3f5f"
           }
          },
          "ternary": {
           "aaxis": {
            "gridcolor": "white",
            "linecolor": "white",
            "ticks": ""
           },
           "baxis": {
            "gridcolor": "white",
            "linecolor": "white",
            "ticks": ""
           },
           "bgcolor": "#E5ECF6",
           "caxis": {
            "gridcolor": "white",
            "linecolor": "white",
            "ticks": ""
           }
          },
          "title": {
           "x": 0.05
          },
          "xaxis": {
           "automargin": true,
           "gridcolor": "white",
           "linecolor": "white",
           "ticks": "",
           "title": {
            "standoff": 15
           },
           "zerolinecolor": "white",
           "zerolinewidth": 2
          },
          "yaxis": {
           "automargin": true,
           "gridcolor": "white",
           "linecolor": "white",
           "ticks": "",
           "title": {
            "standoff": 15
           },
           "zerolinecolor": "white",
           "zerolinewidth": 2
          }
         }
        },
        "title": {
         "text": "Data Quality Analysis Dashboard"
        },
        "xaxis": {
         "anchor": "y",
         "domain": [
          0,
          0.45
         ],
         "title": {
          "text": "Category"
         }
        },
        "xaxis2": {
         "anchor": "y2",
         "domain": [
          0.55,
          1
         ],
         "title": {
          "text": "Clip Fraction"
         }
        },
        "xaxis3": {
         "anchor": "y3",
         "domain": [
          0,
          0.45
         ],
         "title": {
          "text": "Max Abs Z-Score"
         }
        },
        "xaxis4": {
         "anchor": "y4",
         "domain": [
          0.55,
          1
         ],
         "title": {
          "text": "Category"
         }
        },
        "yaxis": {
         "anchor": "x",
         "domain": [
          0.625,
          1
         ],
         "title": {
          "text": "Std (uV)"
         }
        },
        "yaxis2": {
         "anchor": "x2",
         "domain": [
          0.625,
          1
         ]
        },
        "yaxis3": {
         "anchor": "x3",
         "domain": [
          0,
          0.375
         ]
        },
        "yaxis4": {
         "anchor": "x4",
         "domain": [
          0,
          0.375
         ],
         "title": {
          "text": "Bad Run Count"
         }
        }
       }
      }
     },
     "metadata": {},
     "output_type": "display_data"
    }
   ],
   "source": [
    "import plotly.express as px\n",
    "import plotly.graph_objects as go\n",
    "from plotly.subplots import make_subplots\n",
    "\n",
    "fig = make_subplots(\n",
    "    rows=2, cols=2,\n",
    "    subplot_titles=(\n",
    "        'Mean Channel Std by Category',\n",
    "        'Clip Fraction Distribution',\n",
    "        'Z-Score Distribution',\n",
    "        'Bad Runs by Category'\n",
    "    ),\n",
    "    specs=[[{'type': 'box'}, {'type': 'histogram'}],\n",
    "           [{'type': 'histogram'}, {'type': 'bar'}]]\n",
    ")\n",
    "\n",
    "for category in RUN_DF['category'].unique():\n",
    "    cat_data = RUN_DF[RUN_DF['category'] == category]\n",
    "    fig.add_trace(\n",
    "        go.Box(y=cat_data['mean_channel_std_uv'], name=category),\n",
    "        row=1, col=1\n",
    "    )\n",
    "\n",
    "fig.add_trace(\n",
    "    go.Histogram(x=RUN_DF['clip_fraction_over_200uv'], nbinsx=50, name='Clip Fraction'),\n",
    "    row=1, col=2\n",
    ")\n",
    "\n",
    "fig.add_trace(\n",
    "    go.Histogram(x=RUN_DF['max_abs_z'], nbinsx=50, name='Z-Score'),\n",
    "    row=2, col=1\n",
    ")\n",
    "\n",
    "bad_by_category = RUN_DF.groupby('category')['bad_run'].sum().reset_index()\n",
    "fig.add_trace(\n",
    "    go.Bar(x=bad_by_category['category'], y=bad_by_category['bad_run'], name='Bad Runs'),\n",
    "    row=2, col=2\n",
    ")\n",
    "\n",
    "fig.add_vline(x=CLIP_THRESHOLD, line_dash='dash', line_color='red', row=1, col=2)\n",
    "fig.add_vline(x=Z_THRESHOLD, line_dash='dash', line_color='red', row=2, col=1)\n",
    "\n",
    "fig.update_layout(height=800, title_text=\"Data Quality Analysis Dashboard\", showlegend=False)\n",
    "fig.update_xaxes(title_text=\"Category\", row=1, col=1)\n",
    "fig.update_yaxes(title_text=\"Std (uV)\", row=1, col=1)\n",
    "fig.update_xaxes(title_text=\"Clip Fraction\", row=1, col=2)\n",
    "fig.update_xaxes(title_text=\"Max Abs Z-Score\", row=2, col=1)\n",
    "fig.update_xaxes(title_text=\"Category\", row=2, col=2)\n",
    "fig.update_yaxes(title_text=\"Bad Run Count\", row=2, col=2)\n",
    "\n",
    "fig.show()"
   ]
  },
  {
   "cell_type": "markdown",
   "id": "92wt20b9mxa",
   "metadata": {},
   "source": [
    "### Subject-level quality heatmap"
   ]
  },
  {
   "cell_type": "code",
   "execution_count": 10,
   "id": "5x1q9p5fne8",
   "metadata": {},
   "outputs": [
    {
     "data": {
      "image/png": "[encoded data removed]",
      "text/plain": [
       "<Figure size 1400x2180 with 2 Axes>"
      ]
     },
     "metadata": {},
     "output_type": "display_data"
    },
    {
     "name": "stdout",
     "output_type": "stream",
     "text": [
      "\n",
      "Subjects with most bad runs:\n",
      "subject\n",
      "S109    14.0\n",
      "S017    14.0\n",
      "S044    14.0\n",
      "S043    14.0\n",
      "S086    14.0\n",
      "S084    14.0\n",
      "S039    14.0\n",
      "S075    14.0\n",
      "S032    14.0\n",
      "S095    14.0\n",
      "dtype: float64\n"
     ]
    }
   ],
   "source": [
    "run_quality_matrix = RUN_DF.pivot(index='subject', columns='run', values='bad_run').astype(float)\n",
    "\n",
    "plt.figure(figsize=(14, max(0.2 * len(run_quality_matrix), 10)))\n",
    "sns.heatmap(\n",
    "    run_quality_matrix, \n",
    "    cmap='RdYlGn_r', \n",
    "    cbar_kws={'label': 'Bad Run (1=Bad, 0=Good)'},\n",
    "    linewidths=0.5,\n",
    "    linecolor='gray'\n",
    ")\n",
    "plt.title('Run Quality Heatmap by Subject', fontsize=14, fontweight='bold')\n",
    "plt.xlabel('Run ID', fontsize=12)\n",
    "plt.ylabel('Subject ID', fontsize=12)\n",
    "plt.tight_layout()\n",
    "plt.show()\n",
    "\n",
    "print(f\"\\nSubjects with most bad runs:\")\n",
    "bad_run_counts = run_quality_matrix.sum(axis=1).sort_values(ascending=False)\n",
    "print(bad_run_counts.head(10))"
   ]
  },
  {
   "cell_type": "markdown",
   "id": "tdoninvvql",
   "metadata": {},
   "source": [
    "### Correlation analysis between quality metrics"
   ]
  },
  {
   "cell_type": "code",
   "execution_count": 11,
   "id": "yisni9czcv",
   "metadata": {},
   "outputs": [
    {
     "data": {
      "image/png": "[encoded data removed]",
      "text/plain": [
       "<Figure size 1000x800 with 2 Axes>"
      ]
     },
     "metadata": {},
     "output_type": "display_data"
    },
    {
     "name": "stdout",
     "output_type": "stream",
     "text": [
      "\n",
      "Key correlations:\n",
      "                     metric1                   metric2  correlation\n",
      "7   clip_fraction_over_200uv       noisy_channel_count     0.932137\n",
      "0        mean_channel_std_uv  clip_fraction_over_200uv     0.897152\n",
      "3        mean_channel_std_uv       noisy_channel_count     0.832049\n",
      "4        mean_channel_std_uv         max_abs_signal_uv     0.755991\n",
      "8   clip_fraction_over_200uv         max_abs_signal_uv     0.548860\n",
      "14       noisy_channel_count         max_abs_signal_uv     0.502577\n",
      "5   clip_fraction_over_200uv                 max_abs_z     0.458222\n",
      "10                 max_abs_z       noisy_channel_count     0.422444\n",
      "1        mean_channel_std_uv                 max_abs_z     0.342644\n",
      "11                 max_abs_z         max_abs_signal_uv     0.051537\n"
     ]
    }
   ],
   "source": [
    "quality_metrics = [\n",
    "    'mean_channel_std_uv', 'clip_fraction_over_200uv', 'max_abs_z',\n",
    "    'flat_channel_count', 'noisy_channel_count', 'max_abs_signal_uv'\n",
    "]\n",
    "\n",
    "corr_matrix = RUN_DF[quality_metrics].corr()\n",
    "\n",
    "plt.figure(figsize=(10, 8))\n",
    "sns.heatmap(\n",
    "    corr_matrix, \n",
    "    annot=True, \n",
    "    fmt='.2f', \n",
    "    cmap='coolwarm', \n",
    "    center=0,\n",
    "    square=True,\n",
    "    linewidths=1,\n",
    "    cbar_kws={'label': 'Correlation Coefficient'}\n",
    ")\n",
    "plt.title('Correlation Between Quality Metrics', fontsize=14, fontweight='bold')\n",
    "plt.tight_layout()\n",
    "plt.show()\n",
    "\n",
    "print(\"\\nKey correlations:\")\n",
    "corr_pairs = []\n",
    "for i in range(len(quality_metrics)):\n",
    "    for j in range(i+1, len(quality_metrics)):\n",
    "        corr_pairs.append({\n",
    "            'metric1': quality_metrics[i],\n",
    "            'metric2': quality_metrics[j],\n",
    "            'correlation': corr_matrix.iloc[i, j]\n",
    "        })\n",
    "        \n",
    "corr_df = pd.DataFrame(corr_pairs).sort_values('correlation', key=abs, ascending=False)\n",
    "print(corr_df.head(10))"
   ]
  }
 ],
 "metadata": {
  "kernelspec": {
   "display_name": "Python 3",
   "language": "python",
   "name": "python3"
  },
  "language_info": {
   "codemirror_mode": {
    "name": "ipython",
    "version": 3
   },
   "file_extension": ".py",
   "mimetype": "text/x-python",
   "name": "python",
   "nbconvert_exporter": "python",
   "pygments_lexer": "ipython3",
   "version": "3.12.5"
  }
 },
 "nbformat": 4,
 "nbformat_minor": 5
}

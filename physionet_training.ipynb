{
 "cells": [
  {
   "cell_type": "markdown",
   "metadata": {},
   "source": [
    "# PhysioNet EEG-ARNN Training Pipeline\n",
    "\n",
    "This notebook implements the complete training pipeline with:\n",
    "- Subject-specific 3-fold cross-validation\n",
    "- Edge Selection (ES) and Aggregation Selection (AS)\n",
    "- Experiments with different k values (10, 15, 20, 25)\n",
    "- Comprehensive results and visualizations"
   ]
  },
  {
   "cell_type": "markdown",
   "metadata": {},
   "source": [
    "## Setup and Imports"
   ]
  },
  {
   "cell_type": "code",
   "execution_count": 9,
   "metadata": {},
   "outputs": [
    {
     "name": "stdout",
     "output_type": "stream",
     "text": [
      "Using device: cpu\n"
     ]
    }
   ],
   "source": [
    "import sys\n",
    "from pathlib import Path\n",
    "import warnings\n",
    "import json\n",
    "from datetime import datetime\n",
    "\n",
    "import numpy as np\n",
    "import pandas as pd\n",
    "import matplotlib.pyplot as plt\n",
    "import seaborn as sns\n",
    "from tqdm.auto import tqdm\n",
    "\n",
    "import torch\n",
    "import torch.nn as nn\n",
    "from torch.utils.data import DataLoader\n",
    "\n",
    "import mne\n",
    "\n",
    "from models import EEGARNN, ChannelSelector\n",
    "from train_utils import (\n",
    "    load_preprocessed_data, filter_classes, normalize_data,\n",
    "    cross_validate_subject, EEGDataset\n",
    ")\n",
    "\n",
    "warnings.filterwarnings('ignore')\n",
    "mne.set_log_level('ERROR')\n",
    "sns.set_context('notebook', font_scale=1.1)\n",
    "plt.style.use('seaborn-v0_8')\n",
    "\n",
    "device = torch.device('cuda' if torch.cuda.is_available() else 'cpu')\n",
    "print(f\"Using device: {device}\")\n",
    "if torch.cuda.is_available():\n",
    "    print(f\"GPU: {torch.cuda.get_device_name(0)}\")"
   ]
  },
  {
   "cell_type": "markdown",
   "metadata": {},
   "source": [
    "## Configuration"
   ]
  },
  {
   "cell_type": "code",
   "execution_count": 10,
   "metadata": {},
   "outputs": [
    {
     "name": "stdout",
     "output_type": "stream",
     "text": [
      "Experiment Configuration:\n",
      "{\n",
      "  \"data\": {\n",
      "    \"preprocessed_dir\": \"data\\\\physionet\\\\derived\\\\preprocessed\",\n",
      "    \"index_file\": \"data\\\\physionet\\\\derived\\\\physionet_preprocessed_index.csv\",\n",
      "    \"selected_classes\": [\n",
      "      1,\n",
      "      2\n",
      "    ],\n",
      "    \"tmin\": -1.0,\n",
      "    \"tmax\": 5.0,\n",
      "    \"baseline\": [\n",
      "      -0.5,\n",
      "      0\n",
      "    ]\n",
      "  },\n",
      "  \"model\": {\n",
      "    \"hidden_dim\": 40,\n",
      "    \"epochs\": 50,\n",
      "    \"learning_rate\": 0.001,\n",
      "    \"batch_size\": 32,\n",
      "    \"n_folds\": 3\n",
      "  },\n",
      "  \"channel_selection\": {\n",
      "    \"k_values\": [\n",
      "      10,\n",
      "      15,\n",
      "      20,\n",
      "      25,\n",
      "      \"all\"\n",
      "    ],\n",
      "    \"methods\": [\n",
      "      \"ES\",\n",
      "      \"AS\"\n",
      "    ]\n",
      "  },\n",
      "  \"output\": {\n",
      "    \"results_dir\": \"results\",\n",
      "    \"models_dir\": \"saved_models\"\n",
      "  },\n",
      "  \"max_subjects\": 20\n",
      "}\n"
     ]
    }
   ],
   "source": [
    "EXPERIMENT_CONFIG = {\n",
    "    'data': {\n",
    "        'preprocessed_dir': Path('data/physionet/derived/preprocessed'),\n",
    "        'index_file': Path('data/physionet/derived/physionet_preprocessed_index.csv'),\n",
    "        'selected_classes': [1, 2],  # T1, T2 (or [1, 2, 3, 4] for 4-class)\n",
    "        'tmin': -1.0,\n",
    "        'tmax': 5.0,\n",
    "        'baseline': (-0.5, 0)\n",
    "    },\n",
    "    'model': {\n",
    "        'hidden_dim': 40,\n",
    "        'epochs': 50,  # Reduced from 100 to 50\n",
    "        'learning_rate': 0.001,\n",
    "        'batch_size': 32,\n",
    "        'n_folds': 3\n",
    "    },\n",
    "    'channel_selection': {\n",
    "        'k_values': [10, 15, 20, 25, 'all'],  # Different k to test\n",
    "        'methods': ['ES', 'AS']  # Edge Selection, Aggregation Selection\n",
    "    },\n",
    "    'output': {\n",
    "        'results_dir': Path('results'),\n",
    "        'models_dir': Path('saved_models')\n",
    "    },\n",
    "    'max_subjects': 20  # Train on only 20 subjects\n",
    "}\n",
    "\n",
    "EXPERIMENT_CONFIG['output']['results_dir'].mkdir(exist_ok=True)\n",
    "EXPERIMENT_CONFIG['output']['models_dir'].mkdir(exist_ok=True)\n",
    "\n",
    "print(\"Experiment Configuration:\")\n",
    "print(json.dumps(EXPERIMENT_CONFIG, indent=2, default=str))"
   ]
  },
  {
   "cell_type": "markdown",
   "metadata": {},
   "source": [
    "## Load Preprocessed Data Index"
   ]
  },
  {
   "cell_type": "code",
   "execution_count": 11,
   "metadata": {},
   "outputs": [
    {
     "name": "stdout",
     "output_type": "stream",
     "text": [
      "Total preprocessed runs: 669\n",
      "Successful runs: 669\n",
      "\n",
      "Subjects available: 51\n",
      "\n",
      "Runs per category:\n",
      "category\n",
      "motor_execution    292\n",
      "motor_imagery      295\n",
      "resting_state       82\n",
      "Name: run, dtype: int64\n"
     ]
    },
    {
     "data": {
      "text/html": [
       "<div>\n",
       "<style scoped>\n",
       "    .dataframe tbody tr th:only-of-type {\n",
       "        vertical-align: middle;\n",
       "    }\n",
       "\n",
       "    .dataframe tbody tr th {\n",
       "        vertical-align: top;\n",
       "    }\n",
       "\n",
       "    .dataframe thead th {\n",
       "        text-align: right;\n",
       "    }\n",
       "</style>\n",
       "<table border=\"1\" class=\"dataframe\">\n",
       "  <thead>\n",
       "    <tr style=\"text-align: right;\">\n",
       "      <th></th>\n",
       "      <th>subject</th>\n",
       "      <th>run</th>\n",
       "      <th>status</th>\n",
       "      <th>path</th>\n",
       "      <th>timestamp</th>\n",
       "      <th>original_sfreq</th>\n",
       "      <th>n_channels_original</th>\n",
       "      <th>duration_s</th>\n",
       "      <th>bad_channels</th>\n",
       "      <th>n_bad_channels</th>\n",
       "      <th>notch_applied</th>\n",
       "      <th>final_sfreq</th>\n",
       "      <th>n_channels_final</th>\n",
       "      <th>file_size_mb</th>\n",
       "      <th>category</th>\n",
       "      <th>task</th>\n",
       "      <th>bad_channels_interpolated</th>\n",
       "    </tr>\n",
       "  </thead>\n",
       "  <tbody>\n",
       "    <tr>\n",
       "      <th>0</th>\n",
       "      <td>S001</td>\n",
       "      <td>R01</td>\n",
       "      <td>success</td>\n",
       "      <td>data\\physionet\\derived\\preprocessed\\S001\\S001R...</td>\n",
       "      <td>2025-10-23T17:52:38.863386</td>\n",
       "      <td>160.0</td>\n",
       "      <td>64</td>\n",
       "      <td>60.99375</td>\n",
       "      <td>[]</td>\n",
       "      <td>0</td>\n",
       "      <td>[50.0]</td>\n",
       "      <td>128.0</td>\n",
       "      <td>64</td>\n",
       "      <td>1.917076</td>\n",
       "      <td>resting_state</td>\n",
       "      <td>Baseline eyes open</td>\n",
       "      <td>NaN</td>\n",
       "    </tr>\n",
       "    <tr>\n",
       "      <th>1</th>\n",
       "      <td>S001</td>\n",
       "      <td>R02</td>\n",
       "      <td>success</td>\n",
       "      <td>data\\physionet\\derived\\preprocessed\\S001\\S001R...</td>\n",
       "      <td>2025-10-23T17:52:39.482853</td>\n",
       "      <td>160.0</td>\n",
       "      <td>64</td>\n",
       "      <td>60.99375</td>\n",
       "      <td>[]</td>\n",
       "      <td>0</td>\n",
       "      <td>[50.0]</td>\n",
       "      <td>128.0</td>\n",
       "      <td>64</td>\n",
       "      <td>1.917076</td>\n",
       "      <td>resting_state</td>\n",
       "      <td>Baseline eyes closed</td>\n",
       "      <td>NaN</td>\n",
       "    </tr>\n",
       "    <tr>\n",
       "      <th>2</th>\n",
       "      <td>S001</td>\n",
       "      <td>R04</td>\n",
       "      <td>success</td>\n",
       "      <td>data\\physionet\\derived\\preprocessed\\S001\\S001R...</td>\n",
       "      <td>2025-10-23T17:52:39.869856</td>\n",
       "      <td>160.0</td>\n",
       "      <td>64</td>\n",
       "      <td>124.99375</td>\n",
       "      <td>[]</td>\n",
       "      <td>0</td>\n",
       "      <td>[50.0]</td>\n",
       "      <td>128.0</td>\n",
       "      <td>64</td>\n",
       "      <td>3.918468</td>\n",
       "      <td>motor_execution</td>\n",
       "      <td>Open/close right fist (executed)</td>\n",
       "      <td>NaN</td>\n",
       "    </tr>\n",
       "    <tr>\n",
       "      <th>3</th>\n",
       "      <td>S001</td>\n",
       "      <td>R05</td>\n",
       "      <td>success</td>\n",
       "      <td>data\\physionet\\derived\\preprocessed\\S001\\S001R...</td>\n",
       "      <td>2025-10-23T17:52:40.658595</td>\n",
       "      <td>160.0</td>\n",
       "      <td>64</td>\n",
       "      <td>124.99375</td>\n",
       "      <td>[]</td>\n",
       "      <td>0</td>\n",
       "      <td>[50.0]</td>\n",
       "      <td>128.0</td>\n",
       "      <td>64</td>\n",
       "      <td>3.918468</td>\n",
       "      <td>motor_execution</td>\n",
       "      <td>Open/close both fists (executed)</td>\n",
       "      <td>NaN</td>\n",
       "    </tr>\n",
       "    <tr>\n",
       "      <th>4</th>\n",
       "      <td>S001</td>\n",
       "      <td>R06</td>\n",
       "      <td>success</td>\n",
       "      <td>data\\physionet\\derived\\preprocessed\\S001\\S001R...</td>\n",
       "      <td>2025-10-23T17:52:41.551311</td>\n",
       "      <td>160.0</td>\n",
       "      <td>64</td>\n",
       "      <td>124.99375</td>\n",
       "      <td>[]</td>\n",
       "      <td>0</td>\n",
       "      <td>[50.0]</td>\n",
       "      <td>128.0</td>\n",
       "      <td>64</td>\n",
       "      <td>3.918468</td>\n",
       "      <td>motor_execution</td>\n",
       "      <td>Open/close both feet (executed)</td>\n",
       "      <td>NaN</td>\n",
       "    </tr>\n",
       "  </tbody>\n",
       "</table>\n",
       "</div>"
      ],
      "text/plain": [
       "  subject  run   status                                               path  \\\n",
       "0    S001  R01  success  data\\physionet\\derived\\preprocessed\\S001\\S001R...   \n",
       "1    S001  R02  success  data\\physionet\\derived\\preprocessed\\S001\\S001R...   \n",
       "2    S001  R04  success  data\\physionet\\derived\\preprocessed\\S001\\S001R...   \n",
       "3    S001  R05  success  data\\physionet\\derived\\preprocessed\\S001\\S001R...   \n",
       "4    S001  R06  success  data\\physionet\\derived\\preprocessed\\S001\\S001R...   \n",
       "\n",
       "                    timestamp  original_sfreq  n_channels_original  \\\n",
       "0  2025-10-23T17:52:38.863386           160.0                   64   \n",
       "1  2025-10-23T17:52:39.482853           160.0                   64   \n",
       "2  2025-10-23T17:52:39.869856           160.0                   64   \n",
       "3  2025-10-23T17:52:40.658595           160.0                   64   \n",
       "4  2025-10-23T17:52:41.551311           160.0                   64   \n",
       "\n",
       "   duration_s bad_channels  n_bad_channels notch_applied  final_sfreq  \\\n",
       "0    60.99375           []               0        [50.0]        128.0   \n",
       "1    60.99375           []               0        [50.0]        128.0   \n",
       "2   124.99375           []               0        [50.0]        128.0   \n",
       "3   124.99375           []               0        [50.0]        128.0   \n",
       "4   124.99375           []               0        [50.0]        128.0   \n",
       "\n",
       "   n_channels_final  file_size_mb         category  \\\n",
       "0                64      1.917076    resting_state   \n",
       "1                64      1.917076    resting_state   \n",
       "2                64      3.918468  motor_execution   \n",
       "3                64      3.918468  motor_execution   \n",
       "4                64      3.918468  motor_execution   \n",
       "\n",
       "                               task bad_channels_interpolated  \n",
       "0                Baseline eyes open                       NaN  \n",
       "1              Baseline eyes closed                       NaN  \n",
       "2  Open/close right fist (executed)                       NaN  \n",
       "3  Open/close both fists (executed)                       NaN  \n",
       "4   Open/close both feet (executed)                       NaN  "
      ]
     },
     "execution_count": 11,
     "metadata": {},
     "output_type": "execute_result"
    }
   ],
   "source": [
    "index_df = pd.read_csv(EXPERIMENT_CONFIG['data']['index_file'])\n",
    "success_df = index_df[index_df['status'] == 'success'].copy()\n",
    "\n",
    "print(f\"Total preprocessed runs: {len(index_df)}\")\n",
    "print(f\"Successful runs: {len(success_df)}\")\n",
    "print(f\"\\nSubjects available: {success_df['subject'].nunique()}\")\n",
    "print(f\"\\nRuns per category:\")\n",
    "print(success_df.groupby('category')['run'].count())\n",
    "\n",
    "success_df.head()"
   ]
  },
  {
   "cell_type": "markdown",
   "metadata": {},
   "source": [
    "## Subject Selection\n",
    "\n",
    "Select subjects for training. For motor imagery, we focus on motor execution and motor imagery runs."
   ]
  },
  {
   "cell_type": "code",
   "execution_count": 12,
   "metadata": {},
   "outputs": [
    {
     "name": "stdout",
     "output_type": "stream",
     "text": [
      "Subjects with >=10 motor runs: 49\n",
      "\n",
      "First 10 subjects: ['S001', 'S002', 'S005', 'S006', 'S007', 'S008', 'S011', 'S014', 'S015', 'S016']\n",
      "\n",
      "Will train on 20 subjects\n",
      "Selected subjects: ['S001', 'S002', 'S005', 'S006', 'S007', 'S008', 'S011', 'S014', 'S015', 'S016', 'S018', 'S020', 'S025', 'S026', 'S029', 'S030', 'S033', 'S034', 'S035', 'S037']\n"
     ]
    }
   ],
   "source": [
    "# Filter motor-related runs (execution and imagery)\n",
    "motor_runs = success_df[success_df['category'].isin(['motor_execution', 'motor_imagery'])].copy()\n",
    "\n",
    "# Count runs per subject\n",
    "subject_counts = motor_runs.groupby('subject').size().reset_index(name='num_runs')\n",
    "subject_counts = subject_counts[subject_counts['num_runs'] >= 10]  # At least 10 runs\n",
    "\n",
    "selected_subjects = subject_counts['subject'].tolist()\n",
    "\n",
    "print(f\"Subjects with >=10 motor runs: {len(selected_subjects)}\")\n",
    "print(f\"\\nFirst 10 subjects: {selected_subjects[:10]}\")\n",
    "\n",
    "# Limit to max_subjects for this experiment\n",
    "max_subjects = EXPERIMENT_CONFIG.get('max_subjects', len(selected_subjects))\n",
    "selected_subjects = selected_subjects[:max_subjects]\n",
    "\n",
    "print(f\"\\nWill train on {len(selected_subjects)} subjects\")\n",
    "print(f\"Selected subjects: {selected_subjects}\")"
   ]
  },
  {
   "cell_type": "markdown",
   "metadata": {},
   "source": [
    "## Helper Functions"
   ]
  },
  {
   "cell_type": "code",
   "execution_count": 13,
   "metadata": {},
   "outputs": [],
   "source": [
    "def load_subject_data(subject_id, preprocessed_dir, motor_runs_df, config):\n",
    "    \"\"\"\n",
    "    Load all motor runs for a subject and concatenate\n",
    "    \n",
    "    Returns\n",
    "    -------\n",
    "    data : np.ndarray or None\n",
    "        (n_trials, n_channels, n_timepoints)\n",
    "    labels : np.ndarray or None\n",
    "        (n_trials,)\n",
    "    channel_names : list\n",
    "        List of channel names\n",
    "    \"\"\"\n",
    "    subject_runs = motor_runs_df[motor_runs_df['subject'] == subject_id]\n",
    "    \n",
    "    all_data = []\n",
    "    all_labels = []\n",
    "    channel_names = None\n",
    "    \n",
    "    for _, run_info in subject_runs.iterrows():\n",
    "        fif_path = Path(run_info['path'])\n",
    "        \n",
    "        if not fif_path.exists():\n",
    "            continue\n",
    "        \n",
    "        try:\n",
    "            data, labels = load_preprocessed_data(\n",
    "                fif_path,\n",
    "                tmin=config['data']['tmin'],\n",
    "                tmax=config['data']['tmax'],\n",
    "                baseline=config['data']['baseline']\n",
    "            )\n",
    "            \n",
    "            if data is not None and len(data) > 0:\n",
    "                all_data.append(data)\n",
    "                all_labels.append(labels)\n",
    "                \n",
    "                if channel_names is None:\n",
    "                    raw = mne.io.read_raw_fif(fif_path, preload=False, verbose='ERROR')\n",
    "                    channel_names = raw.ch_names\n",
    "                    \n",
    "        except Exception as e:\n",
    "            print(f\"Error loading {fif_path.name}: {e}\")\n",
    "            continue\n",
    "    \n",
    "    if len(all_data) == 0:\n",
    "        return None, None, None\n",
    "    \n",
    "    all_data = np.concatenate(all_data, axis=0)\n",
    "    all_labels = np.concatenate(all_labels, axis=0)\n",
    "    \n",
    "    # Filter to selected classes\n",
    "    all_data, all_labels = filter_classes(\n",
    "        all_data, all_labels, config['data']['selected_classes']\n",
    "    )\n",
    "    \n",
    "    return all_data, all_labels, channel_names"
   ]
  },
  {
   "cell_type": "markdown",
   "metadata": {},
   "source": [
    "## Main Training Loop\n",
    "\n",
    "Train subject-specific models with 3-fold cross-validation"
   ]
  },
  {
   "cell_type": "code",
   "execution_count": 14,
   "metadata": {},
   "outputs": [
    {
     "name": "stderr",
     "output_type": "stream",
     "text": [
      "Training subjects:   0%|          | 0/20 [00:00<?, ?it/s]"
     ]
    },
    {
     "name": "stdout",
     "output_type": "stream",
     "text": [
      "\n",
      "================================================================================\n",
      "Training subject: S001\n",
      "================================================================================\n",
      "Error loading S001R04_preproc_raw.fif: No stim channels found, but the raw object has annotations. Consider using mne.events_from_annotations to convert these to events.\n",
      "Error loading S001R05_preproc_raw.fif: No stim channels found, but the raw object has annotations. Consider using mne.events_from_annotations to convert these to events.\n",
      "Error loading S001R06_preproc_raw.fif: No stim channels found, but the raw object has annotations. Consider using mne.events_from_annotations to convert these to events.\n",
      "Error loading S001R07_preproc_raw.fif: No stim channels found, but the raw object has annotations. Consider using mne.events_from_annotations to convert these to events.\n",
      "Error loading S001R08_preproc_raw.fif: No stim channels found, but the raw object has annotations. Consider using mne.events_from_annotations to convert these to events.\n",
      "Error loading S001R09_preproc_raw.fif: No stim channels found, but the raw object has annotations. Consider using mne.events_from_annotations to convert these to events.\n",
      "Error loading S001R10_preproc_raw.fif: No stim channels found, but the raw object has annotations. Consider using mne.events_from_annotations to convert these to events.\n",
      "Error loading S001R11_preproc_raw.fif: No stim channels found, but the raw object has annotations. Consider using mne.events_from_annotations to convert these to events.\n"
     ]
    },
    {
     "name": "stderr",
     "output_type": "stream",
     "text": [
      "Training subjects:   5%|▌         | 1/20 [00:00<00:09,  1.92it/s]"
     ]
    },
    {
     "name": "stdout",
     "output_type": "stream",
     "text": [
      "Error loading S001R12_preproc_raw.fif: No stim channels found, but the raw object has annotations. Consider using mne.events_from_annotations to convert these to events.\n",
      "Error loading S001R13_preproc_raw.fif: No stim channels found, but the raw object has annotations. Consider using mne.events_from_annotations to convert these to events.\n",
      "Error loading S001R14_preproc_raw.fif: No stim channels found, but the raw object has annotations. Consider using mne.events_from_annotations to convert these to events.\n",
      "Skipping S001: insufficient data\n",
      "\n",
      "================================================================================\n",
      "Training subject: S002\n",
      "================================================================================\n",
      "Error loading S002R03_preproc_raw.fif: No stim channels found, but the raw object has annotations. Consider using mne.events_from_annotations to convert these to events.\n",
      "Error loading S002R04_preproc_raw.fif: No stim channels found, but the raw object has annotations. Consider using mne.events_from_annotations to convert these to events.\n",
      "Error loading S002R05_preproc_raw.fif: No stim channels found, but the raw object has annotations. Consider using mne.events_from_annotations to convert these to events.\n",
      "Error loading S002R06_preproc_raw.fif: No stim channels found, but the raw object has annotations. Consider using mne.events_from_annotations to convert these to events.\n",
      "Error loading S002R07_preproc_raw.fif: No stim channels found, but the raw object has annotations. Consider using mne.events_from_annotations to convert these to events.\n",
      "Error loading S002R08_preproc_raw.fif: No stim channels found, but the raw object has annotations. Consider using mne.events_from_annotations to convert these to events.\n",
      "Error loading S002R09_preproc_raw.fif: No stim channels found, but the raw object has annotations. Consider using mne.events_from_annotations to convert these to events.\n",
      "Error loading S002R10_preproc_raw.fif: No stim channels found, but the raw object has annotations. Consider using mne.events_from_annotations to convert these to events.\n"
     ]
    },
    {
     "name": "stderr",
     "output_type": "stream",
     "text": [
      "Training subjects:  10%|█         | 2/20 [00:01<00:09,  1.85it/s]"
     ]
    },
    {
     "name": "stdout",
     "output_type": "stream",
     "text": [
      "Error loading S002R11_preproc_raw.fif: No stim channels found, but the raw object has annotations. Consider using mne.events_from_annotations to convert these to events.\n",
      "Error loading S002R12_preproc_raw.fif: No stim channels found, but the raw object has annotations. Consider using mne.events_from_annotations to convert these to events.\n",
      "Error loading S002R14_preproc_raw.fif: No stim channels found, but the raw object has annotations. Consider using mne.events_from_annotations to convert these to events.\n",
      "Skipping S002: insufficient data\n",
      "\n",
      "================================================================================\n",
      "Training subject: S005\n",
      "================================================================================\n",
      "Error loading S005R03_preproc_raw.fif: No stim channels found, but the raw object has annotations. Consider using mne.events_from_annotations to convert these to events.\n",
      "Error loading S005R04_preproc_raw.fif: No stim channels found, but the raw object has annotations. Consider using mne.events_from_annotations to convert these to events.\n",
      "Error loading S005R05_preproc_raw.fif: No stim channels found, but the raw object has annotations. Consider using mne.events_from_annotations to convert these to events.\n",
      "Error loading S005R06_preproc_raw.fif: No stim channels found, but the raw object has annotations. Consider using mne.events_from_annotations to convert these to events.\n",
      "Error loading S005R07_preproc_raw.fif: No stim channels found, but the raw object has annotations. Consider using mne.events_from_annotations to convert these to events.\n",
      "Error loading S005R08_preproc_raw.fif: No stim channels found, but the raw object has annotations. Consider using mne.events_from_annotations to convert these to events.\n",
      "Error loading S005R09_preproc_raw.fif: No stim channels found, but the raw object has annotations. Consider using mne.events_from_annotations to convert these to events.\n",
      "Error loading S005R10_preproc_raw.fif: No stim channels found, but the raw object has annotations. Consider using mne.events_from_annotations to convert these to events.\n",
      "Error loading S005R11_preproc_raw.fif: No stim channels found, but the raw object has annotations. Consider using mne.events_from_annotations to convert these to events.\n",
      "Error loading S005R12_preproc_raw.fif: No stim channels found, but the raw object has annotations. Consider using mne.events_from_annotations to convert these to events.\n",
      "Error loading S005R13_preproc_raw.fif: No stim channels found, but the raw object has annotations. Consider using mne.events_from_annotations to convert these to events.\n"
     ]
    },
    {
     "name": "stderr",
     "output_type": "stream",
     "text": [
      "Training subjects:  15%|█▌        | 3/20 [00:01<00:09,  1.73it/s]"
     ]
    },
    {
     "name": "stdout",
     "output_type": "stream",
     "text": [
      "Error loading S005R14_preproc_raw.fif: No stim channels found, but the raw object has annotations. Consider using mne.events_from_annotations to convert these to events.\n",
      "Skipping S005: insufficient data\n",
      "\n",
      "================================================================================\n",
      "Training subject: S006\n",
      "================================================================================\n",
      "Error loading S006R03_preproc_raw.fif: No stim channels found, but the raw object has annotations. Consider using mne.events_from_annotations to convert these to events.\n",
      "Error loading S006R04_preproc_raw.fif: No stim channels found, but the raw object has annotations. Consider using mne.events_from_annotations to convert these to events.\n",
      "Error loading S006R05_preproc_raw.fif: No stim channels found, but the raw object has annotations. Consider using mne.events_from_annotations to convert these to events.\n",
      "Error loading S006R06_preproc_raw.fif: No stim channels found, but the raw object has annotations. Consider using mne.events_from_annotations to convert these to events.\n",
      "Error loading S006R07_preproc_raw.fif: No stim channels found, but the raw object has annotations. Consider using mne.events_from_annotations to convert these to events.\n",
      "Error loading S006R08_preproc_raw.fif: No stim channels found, but the raw object has annotations. Consider using mne.events_from_annotations to convert these to events.\n",
      "Error loading S006R09_preproc_raw.fif: No stim channels found, but the raw object has annotations. Consider using mne.events_from_annotations to convert these to events.\n",
      "Error loading S006R10_preproc_raw.fif: No stim channels found, but the raw object has annotations. Consider using mne.events_from_annotations to convert these to events.\n"
     ]
    },
    {
     "name": "stderr",
     "output_type": "stream",
     "text": [
      "Training subjects:  20%|██        | 4/20 [00:02<00:10,  1.46it/s]"
     ]
    },
    {
     "name": "stdout",
     "output_type": "stream",
     "text": [
      "Error loading S006R11_preproc_raw.fif: No stim channels found, but the raw object has annotations. Consider using mne.events_from_annotations to convert these to events.\n",
      "Error loading S006R12_preproc_raw.fif: No stim channels found, but the raw object has annotations. Consider using mne.events_from_annotations to convert these to events.\n",
      "Error loading S006R13_preproc_raw.fif: No stim channels found, but the raw object has annotations. Consider using mne.events_from_annotations to convert these to events.\n",
      "Error loading S006R14_preproc_raw.fif: No stim channels found, but the raw object has annotations. Consider using mne.events_from_annotations to convert these to events.\n",
      "Skipping S006: insufficient data\n",
      "\n",
      "================================================================================\n",
      "Training subject: S007\n",
      "================================================================================\n",
      "Error loading S007R03_preproc_raw.fif: No stim channels found, but the raw object has annotations. Consider using mne.events_from_annotations to convert these to events.\n",
      "Error loading S007R04_preproc_raw.fif: No stim channels found, but the raw object has annotations. Consider using mne.events_from_annotations to convert these to events.\n",
      "Error loading S007R05_preproc_raw.fif: No stim channels found, but the raw object has annotations. Consider using mne.events_from_annotations to convert these to events.\n",
      "Error loading S007R06_preproc_raw.fif: No stim channels found, but the raw object has annotations. Consider using mne.events_from_annotations to convert these to events.\n",
      "Error loading S007R07_preproc_raw.fif: No stim channels found, but the raw object has annotations. Consider using mne.events_from_annotations to convert these to events.\n",
      "Error loading S007R08_preproc_raw.fif: No stim channels found, but the raw object has annotations. Consider using mne.events_from_annotations to convert these to events.\n",
      "Error loading S007R09_preproc_raw.fif: No stim channels found, but the raw object has annotations. Consider using mne.events_from_annotations to convert these to events.\n",
      "Error loading S007R10_preproc_raw.fif: No stim channels found, but the raw object has annotations. Consider using mne.events_from_annotations to convert these to events.\n",
      "Error loading S007R11_preproc_raw.fif: No stim channels found, but the raw object has annotations. Consider using mne.events_from_annotations to convert these to events.\n",
      "Error loading S007R12_preproc_raw.fif: No stim channels found, but the raw object has annotations. Consider using mne.events_from_annotations to convert these to events.\n",
      "Error loading S007R13_preproc_raw.fif: No stim channels found, but the raw object has annotations. Consider using mne.events_from_annotations to convert these to events.\n"
     ]
    },
    {
     "name": "stderr",
     "output_type": "stream",
     "text": [
      "Training subjects:  25%|██▌       | 5/20 [00:03<00:09,  1.57it/s]"
     ]
    },
    {
     "name": "stdout",
     "output_type": "stream",
     "text": [
      "Error loading S007R14_preproc_raw.fif: No stim channels found, but the raw object has annotations. Consider using mne.events_from_annotations to convert these to events.\n",
      "Skipping S007: insufficient data\n",
      "\n",
      "================================================================================\n",
      "Training subject: S008\n",
      "================================================================================\n",
      "Error loading S008R03_preproc_raw.fif: No stim channels found, but the raw object has annotations. Consider using mne.events_from_annotations to convert these to events.\n",
      "Error loading S008R04_preproc_raw.fif: No stim channels found, but the raw object has annotations. Consider using mne.events_from_annotations to convert these to events.\n",
      "Error loading S008R05_preproc_raw.fif: No stim channels found, but the raw object has annotations. Consider using mne.events_from_annotations to convert these to events.\n",
      "Error loading S008R06_preproc_raw.fif: No stim channels found, but the raw object has annotations. Consider using mne.events_from_annotations to convert these to events.\n",
      "Error loading S008R07_preproc_raw.fif: No stim channels found, but the raw object has annotations. Consider using mne.events_from_annotations to convert these to events.\n",
      "Error loading S008R08_preproc_raw.fif: No stim channels found, but the raw object has annotations. Consider using mne.events_from_annotations to convert these to events.\n",
      "Error loading S008R09_preproc_raw.fif: No stim channels found, but the raw object has annotations. Consider using mne.events_from_annotations to convert these to events.\n",
      "Error loading S008R10_preproc_raw.fif: No stim channels found, but the raw object has annotations. Consider using mne.events_from_annotations to convert these to events.\n"
     ]
    },
    {
     "name": "stderr",
     "output_type": "stream",
     "text": [
      "Training subjects:  30%|███       | 6/20 [00:03<00:08,  1.65it/s]"
     ]
    },
    {
     "name": "stdout",
     "output_type": "stream",
     "text": [
      "Error loading S008R12_preproc_raw.fif: No stim channels found, but the raw object has annotations. Consider using mne.events_from_annotations to convert these to events.\n",
      "Error loading S008R14_preproc_raw.fif: No stim channels found, but the raw object has annotations. Consider using mne.events_from_annotations to convert these to events.\n",
      "Skipping S008: insufficient data\n",
      "\n",
      "================================================================================\n",
      "Training subject: S011\n",
      "================================================================================\n",
      "Error loading S011R03_preproc_raw.fif: No stim channels found, but the raw object has annotations. Consider using mne.events_from_annotations to convert these to events.\n",
      "Error loading S011R04_preproc_raw.fif: No stim channels found, but the raw object has annotations. Consider using mne.events_from_annotations to convert these to events.\n",
      "Error loading S011R05_preproc_raw.fif: No stim channels found, but the raw object has annotations. Consider using mne.events_from_annotations to convert these to events.\n",
      "Error loading S011R06_preproc_raw.fif: No stim channels found, but the raw object has annotations. Consider using mne.events_from_annotations to convert these to events.\n",
      "Error loading S011R07_preproc_raw.fif: No stim channels found, but the raw object has annotations. Consider using mne.events_from_annotations to convert these to events.\n",
      "Error loading S011R08_preproc_raw.fif: No stim channels found, but the raw object has annotations. Consider using mne.events_from_annotations to convert these to events.\n",
      "Error loading S011R09_preproc_raw.fif: No stim channels found, but the raw object has annotations. Consider using mne.events_from_annotations to convert these to events.\n",
      "Error loading S011R10_preproc_raw.fif: No stim channels found, but the raw object has annotations. Consider using mne.events_from_annotations to convert these to events.\n",
      "Error loading S011R11_preproc_raw.fif: No stim channels found, but the raw object has annotations. Consider using mne.events_from_annotations to convert these to events.\n",
      "Error loading S011R12_preproc_raw.fif: No stim channels found, but the raw object has annotations. Consider using mne.events_from_annotations to convert these to events.\n"
     ]
    },
    {
     "name": "stderr",
     "output_type": "stream",
     "text": [
      "Training subjects:  35%|███▌      | 7/20 [00:04<00:08,  1.56it/s]"
     ]
    },
    {
     "name": "stdout",
     "output_type": "stream",
     "text": [
      "Error loading S011R13_preproc_raw.fif: No stim channels found, but the raw object has annotations. Consider using mne.events_from_annotations to convert these to events.\n",
      "Error loading S011R14_preproc_raw.fif: No stim channels found, but the raw object has annotations. Consider using mne.events_from_annotations to convert these to events.\n",
      "Skipping S011: insufficient data\n",
      "\n",
      "================================================================================\n",
      "Training subject: S014\n",
      "================================================================================\n",
      "Error loading S014R03_preproc_raw.fif: No stim channels found, but the raw object has annotations. Consider using mne.events_from_annotations to convert these to events.\n",
      "Error loading S014R04_preproc_raw.fif: No stim channels found, but the raw object has annotations. Consider using mne.events_from_annotations to convert these to events.\n",
      "Error loading S014R05_preproc_raw.fif: No stim channels found, but the raw object has annotations. Consider using mne.events_from_annotations to convert these to events.\n",
      "Error loading S014R06_preproc_raw.fif: No stim channels found, but the raw object has annotations. Consider using mne.events_from_annotations to convert these to events.\n",
      "Error loading S014R07_preproc_raw.fif: No stim channels found, but the raw object has annotations. Consider using mne.events_from_annotations to convert these to events.\n",
      "Error loading S014R08_preproc_raw.fif: No stim channels found, but the raw object has annotations. Consider using mne.events_from_annotations to convert these to events.\n",
      "Error loading S014R09_preproc_raw.fif: No stim channels found, but the raw object has annotations. Consider using mne.events_from_annotations to convert these to events.\n",
      "Error loading S014R10_preproc_raw.fif: No stim channels found, but the raw object has annotations. Consider using mne.events_from_annotations to convert these to events.\n",
      "Error loading S014R11_preproc_raw.fif: No stim channels found, but the raw object has annotations. Consider using mne.events_from_annotations to convert these to events.\n",
      "Error loading S014R12_preproc_raw.fif: No stim channels found, but the raw object has annotations. Consider using mne.events_from_annotations to convert these to events.\n"
     ]
    },
    {
     "name": "stderr",
     "output_type": "stream",
     "text": [
      "Training subjects:  40%|████      | 8/20 [00:05<00:08,  1.49it/s]"
     ]
    },
    {
     "name": "stdout",
     "output_type": "stream",
     "text": [
      "Error loading S014R13_preproc_raw.fif: No stim channels found, but the raw object has annotations. Consider using mne.events_from_annotations to convert these to events.\n",
      "Error loading S014R14_preproc_raw.fif: No stim channels found, but the raw object has annotations. Consider using mne.events_from_annotations to convert these to events.\n",
      "Skipping S014: insufficient data\n",
      "\n",
      "================================================================================\n",
      "Training subject: S015\n",
      "================================================================================\n",
      "Error loading S015R03_preproc_raw.fif: No stim channels found, but the raw object has annotations. Consider using mne.events_from_annotations to convert these to events.\n",
      "Error loading S015R04_preproc_raw.fif: No stim channels found, but the raw object has annotations. Consider using mne.events_from_annotations to convert these to events.\n",
      "Error loading S015R05_preproc_raw.fif: No stim channels found, but the raw object has annotations. Consider using mne.events_from_annotations to convert these to events.\n",
      "Error loading S015R06_preproc_raw.fif: No stim channels found, but the raw object has annotations. Consider using mne.events_from_annotations to convert these to events.\n",
      "Error loading S015R07_preproc_raw.fif: No stim channels found, but the raw object has annotations. Consider using mne.events_from_annotations to convert these to events.\n",
      "Error loading S015R08_preproc_raw.fif: No stim channels found, but the raw object has annotations. Consider using mne.events_from_annotations to convert these to events.\n",
      "Error loading S015R09_preproc_raw.fif: No stim channels found, but the raw object has annotations. Consider using mne.events_from_annotations to convert these to events.\n",
      "Error loading S015R10_preproc_raw.fif: No stim channels found, but the raw object has annotations. Consider using mne.events_from_annotations to convert these to events.\n"
     ]
    },
    {
     "name": "stderr",
     "output_type": "stream",
     "text": [
      "Training subjects:  45%|████▌     | 9/20 [00:05<00:06,  1.61it/s]"
     ]
    },
    {
     "name": "stdout",
     "output_type": "stream",
     "text": [
      "Error loading S015R12_preproc_raw.fif: No stim channels found, but the raw object has annotations. Consider using mne.events_from_annotations to convert these to events.\n",
      "Error loading S015R13_preproc_raw.fif: No stim channels found, but the raw object has annotations. Consider using mne.events_from_annotations to convert these to events.\n",
      "Error loading S015R14_preproc_raw.fif: No stim channels found, but the raw object has annotations. Consider using mne.events_from_annotations to convert these to events.\n",
      "Skipping S015: insufficient data\n",
      "\n",
      "================================================================================\n",
      "Training subject: S016\n",
      "================================================================================\n",
      "Error loading S016R03_preproc_raw.fif: No stim channels found, but the raw object has annotations. Consider using mne.events_from_annotations to convert these to events.\n",
      "Error loading S016R04_preproc_raw.fif: No stim channels found, but the raw object has annotations. Consider using mne.events_from_annotations to convert these to events.\n",
      "Error loading S016R05_preproc_raw.fif: No stim channels found, but the raw object has annotations. Consider using mne.events_from_annotations to convert these to events.\n",
      "Error loading S016R06_preproc_raw.fif: No stim channels found, but the raw object has annotations. Consider using mne.events_from_annotations to convert these to events.\n",
      "Error loading S016R07_preproc_raw.fif: No stim channels found, but the raw object has annotations. Consider using mne.events_from_annotations to convert these to events.\n",
      "Error loading S016R08_preproc_raw.fif: No stim channels found, but the raw object has annotations. Consider using mne.events_from_annotations to convert these to events.\n",
      "Error loading S016R09_preproc_raw.fif: No stim channels found, but the raw object has annotations. Consider using mne.events_from_annotations to convert these to events.\n"
     ]
    },
    {
     "name": "stderr",
     "output_type": "stream",
     "text": [
      "Training subjects:  50%|█████     | 10/20 [00:06<00:05,  1.70it/s]"
     ]
    },
    {
     "name": "stdout",
     "output_type": "stream",
     "text": [
      "Error loading S016R10_preproc_raw.fif: No stim channels found, but the raw object has annotations. Consider using mne.events_from_annotations to convert these to events.\n",
      "Error loading S016R11_preproc_raw.fif: No stim channels found, but the raw object has annotations. Consider using mne.events_from_annotations to convert these to events.\n",
      "Error loading S016R12_preproc_raw.fif: No stim channels found, but the raw object has annotations. Consider using mne.events_from_annotations to convert these to events.\n",
      "Error loading S016R13_preproc_raw.fif: No stim channels found, but the raw object has annotations. Consider using mne.events_from_annotations to convert these to events.\n",
      "Error loading S016R14_preproc_raw.fif: No stim channels found, but the raw object has annotations. Consider using mne.events_from_annotations to convert these to events.\n",
      "Skipping S016: insufficient data\n",
      "\n",
      "================================================================================\n",
      "Training subject: S018\n",
      "================================================================================\n",
      "Error loading S018R03_preproc_raw.fif: No stim channels found, but the raw object has annotations. Consider using mne.events_from_annotations to convert these to events.\n",
      "Error loading S018R04_preproc_raw.fif: No stim channels found, but the raw object has annotations. Consider using mne.events_from_annotations to convert these to events.\n",
      "Error loading S018R05_preproc_raw.fif: No stim channels found, but the raw object has annotations. Consider using mne.events_from_annotations to convert these to events.\n",
      "Error loading S018R06_preproc_raw.fif: No stim channels found, but the raw object has annotations. Consider using mne.events_from_annotations to convert these to events.\n",
      "Error loading S018R07_preproc_raw.fif: No stim channels found, but the raw object has annotations. Consider using mne.events_from_annotations to convert these to events.\n",
      "Error loading S018R08_preproc_raw.fif: No stim channels found, but the raw object has annotations. Consider using mne.events_from_annotations to convert these to events.\n",
      "Error loading S018R09_preproc_raw.fif: No stim channels found, but the raw object has annotations. Consider using mne.events_from_annotations to convert these to events.\n",
      "Error loading S018R10_preproc_raw.fif: No stim channels found, but the raw object has annotations. Consider using mne.events_from_annotations to convert these to events.\n",
      "Error loading S018R11_preproc_raw.fif: No stim channels found, but the raw object has annotations. Consider using mne.events_from_annotations to convert these to events.\n",
      "Error loading S018R12_preproc_raw.fif: No stim channels found, but the raw object has annotations. Consider using mne.events_from_annotations to convert these to events.\n"
     ]
    },
    {
     "name": "stderr",
     "output_type": "stream",
     "text": [
      "Training subjects:  55%|█████▌    | 11/20 [00:06<00:05,  1.71it/s]"
     ]
    },
    {
     "name": "stdout",
     "output_type": "stream",
     "text": [
      "Error loading S018R13_preproc_raw.fif: No stim channels found, but the raw object has annotations. Consider using mne.events_from_annotations to convert these to events.\n",
      "Error loading S018R14_preproc_raw.fif: No stim channels found, but the raw object has annotations. Consider using mne.events_from_annotations to convert these to events.\n",
      "Skipping S018: insufficient data\n",
      "\n",
      "================================================================================\n",
      "Training subject: S020\n",
      "================================================================================\n",
      "Error loading S020R03_preproc_raw.fif: No stim channels found, but the raw object has annotations. Consider using mne.events_from_annotations to convert these to events.\n",
      "Error loading S020R04_preproc_raw.fif: No stim channels found, but the raw object has annotations. Consider using mne.events_from_annotations to convert these to events.\n",
      "Error loading S020R05_preproc_raw.fif: No stim channels found, but the raw object has annotations. Consider using mne.events_from_annotations to convert these to events.\n",
      "Error loading S020R06_preproc_raw.fif: No stim channels found, but the raw object has annotations. Consider using mne.events_from_annotations to convert these to events.\n",
      "Error loading S020R07_preproc_raw.fif: No stim channels found, but the raw object has annotations. Consider using mne.events_from_annotations to convert these to events.\n",
      "Error loading S020R08_preproc_raw.fif: No stim channels found, but the raw object has annotations. Consider using mne.events_from_annotations to convert these to events.\n",
      "Error loading S020R09_preproc_raw.fif: No stim channels found, but the raw object has annotations. Consider using mne.events_from_annotations to convert these to events.\n",
      "Error loading S020R10_preproc_raw.fif: No stim channels found, but the raw object has annotations. Consider using mne.events_from_annotations to convert these to events.\n",
      "Error loading S020R11_preproc_raw.fif: No stim channels found, but the raw object has annotations. Consider using mne.events_from_annotations to convert these to events.\n",
      "Error loading S020R12_preproc_raw.fif: No stim channels found, but the raw object has annotations. Consider using mne.events_from_annotations to convert these to events.\n",
      "Error loading S020R13_preproc_raw.fif: No stim channels found, but the raw object has annotations. Consider using mne.events_from_annotations to convert these to events.\n"
     ]
    },
    {
     "name": "stderr",
     "output_type": "stream",
     "text": [
      "Training subjects:  60%|██████    | 12/20 [00:07<00:04,  1.64it/s]"
     ]
    },
    {
     "name": "stdout",
     "output_type": "stream",
     "text": [
      "Error loading S020R14_preproc_raw.fif: No stim channels found, but the raw object has annotations. Consider using mne.events_from_annotations to convert these to events.\n",
      "Skipping S020: insufficient data\n",
      "\n",
      "================================================================================\n",
      "Training subject: S025\n",
      "================================================================================\n",
      "Error loading S025R03_preproc_raw.fif: No stim channels found, but the raw object has annotations. Consider using mne.events_from_annotations to convert these to events.\n",
      "Error loading S025R04_preproc_raw.fif: No stim channels found, but the raw object has annotations. Consider using mne.events_from_annotations to convert these to events.\n",
      "Error loading S025R05_preproc_raw.fif: No stim channels found, but the raw object has annotations. Consider using mne.events_from_annotations to convert these to events.\n",
      "Error loading S025R06_preproc_raw.fif: No stim channels found, but the raw object has annotations. Consider using mne.events_from_annotations to convert these to events.\n",
      "Error loading S025R07_preproc_raw.fif: No stim channels found, but the raw object has annotations. Consider using mne.events_from_annotations to convert these to events.\n",
      "Error loading S025R08_preproc_raw.fif: No stim channels found, but the raw object has annotations. Consider using mne.events_from_annotations to convert these to events.\n",
      "Error loading S025R09_preproc_raw.fif: No stim channels found, but the raw object has annotations. Consider using mne.events_from_annotations to convert these to events.\n",
      "Error loading S025R10_preproc_raw.fif: No stim channels found, but the raw object has annotations. Consider using mne.events_from_annotations to convert these to events.\n",
      "Error loading S025R11_preproc_raw.fif: No stim channels found, but the raw object has annotations. Consider using mne.events_from_annotations to convert these to events.\n",
      "Error loading S025R12_preproc_raw.fif: No stim channels found, but the raw object has annotations. Consider using mne.events_from_annotations to convert these to events.\n"
     ]
    },
    {
     "name": "stderr",
     "output_type": "stream",
     "text": [
      "Training subjects:  65%|██████▌   | 13/20 [00:08<00:04,  1.47it/s]"
     ]
    },
    {
     "name": "stdout",
     "output_type": "stream",
     "text": [
      "Error loading S025R13_preproc_raw.fif: No stim channels found, but the raw object has annotations. Consider using mne.events_from_annotations to convert these to events.\n",
      "Error loading S025R14_preproc_raw.fif: No stim channels found, but the raw object has annotations. Consider using mne.events_from_annotations to convert these to events.\n",
      "Skipping S025: insufficient data\n",
      "\n",
      "================================================================================\n",
      "Training subject: S026\n",
      "================================================================================\n",
      "Error loading S026R03_preproc_raw.fif: No stim channels found, but the raw object has annotations. Consider using mne.events_from_annotations to convert these to events.\n",
      "Error loading S026R04_preproc_raw.fif: No stim channels found, but the raw object has annotations. Consider using mne.events_from_annotations to convert these to events.\n",
      "Error loading S026R05_preproc_raw.fif: No stim channels found, but the raw object has annotations. Consider using mne.events_from_annotations to convert these to events.\n",
      "Error loading S026R06_preproc_raw.fif: No stim channels found, but the raw object has annotations. Consider using mne.events_from_annotations to convert these to events.\n",
      "Error loading S026R07_preproc_raw.fif: No stim channels found, but the raw object has annotations. Consider using mne.events_from_annotations to convert these to events.\n",
      "Error loading S026R08_preproc_raw.fif: No stim channels found, but the raw object has annotations. Consider using mne.events_from_annotations to convert these to events.\n",
      "Error loading S026R09_preproc_raw.fif: No stim channels found, but the raw object has annotations. Consider using mne.events_from_annotations to convert these to events.\n",
      "Error loading S026R10_preproc_raw.fif: No stim channels found, but the raw object has annotations. Consider using mne.events_from_annotations to convert these to events.\n",
      "Error loading S026R11_preproc_raw.fif: No stim channels found, but the raw object has annotations. Consider using mne.events_from_annotations to convert these to events.\n",
      "Error loading S026R12_preproc_raw.fif: No stim channels found, but the raw object has annotations. Consider using mne.events_from_annotations to convert these to events.\n",
      "Error loading S026R13_preproc_raw.fif: No stim channels found, but the raw object has annotations. Consider using mne.events_from_annotations to convert these to events.\n"
     ]
    },
    {
     "name": "stderr",
     "output_type": "stream",
     "text": [
      "Training subjects:  70%|███████   | 14/20 [00:08<00:04,  1.44it/s]"
     ]
    },
    {
     "name": "stdout",
     "output_type": "stream",
     "text": [
      "Error loading S026R14_preproc_raw.fif: No stim channels found, but the raw object has annotations. Consider using mne.events_from_annotations to convert these to events.\n",
      "Skipping S026: insufficient data\n",
      "\n",
      "================================================================================\n",
      "Training subject: S029\n",
      "================================================================================\n",
      "Error loading S029R03_preproc_raw.fif: No stim channels found, but the raw object has annotations. Consider using mne.events_from_annotations to convert these to events.\n",
      "Error loading S029R04_preproc_raw.fif: No stim channels found, but the raw object has annotations. Consider using mne.events_from_annotations to convert these to events.\n",
      "Error loading S029R05_preproc_raw.fif: No stim channels found, but the raw object has annotations. Consider using mne.events_from_annotations to convert these to events.\n",
      "Error loading S029R06_preproc_raw.fif: No stim channels found, but the raw object has annotations. Consider using mne.events_from_annotations to convert these to events.\n",
      "Error loading S029R07_preproc_raw.fif: No stim channels found, but the raw object has annotations. Consider using mne.events_from_annotations to convert these to events.\n",
      "Error loading S029R08_preproc_raw.fif: No stim channels found, but the raw object has annotations. Consider using mne.events_from_annotations to convert these to events.\n",
      "Error loading S029R09_preproc_raw.fif: No stim channels found, but the raw object has annotations. Consider using mne.events_from_annotations to convert these to events.\n",
      "Error loading S029R10_preproc_raw.fif: No stim channels found, but the raw object has annotations. Consider using mne.events_from_annotations to convert these to events.\n",
      "Error loading S029R11_preproc_raw.fif: No stim channels found, but the raw object has annotations. Consider using mne.events_from_annotations to convert these to events.\n"
     ]
    },
    {
     "name": "stderr",
     "output_type": "stream",
     "text": [
      "Training subjects:  75%|███████▌  | 15/20 [00:09<00:03,  1.51it/s]"
     ]
    },
    {
     "name": "stdout",
     "output_type": "stream",
     "text": [
      "Error loading S029R12_preproc_raw.fif: No stim channels found, but the raw object has annotations. Consider using mne.events_from_annotations to convert these to events.\n",
      "Error loading S029R13_preproc_raw.fif: No stim channels found, but the raw object has annotations. Consider using mne.events_from_annotations to convert these to events.\n",
      "Error loading S029R14_preproc_raw.fif: No stim channels found, but the raw object has annotations. Consider using mne.events_from_annotations to convert these to events.\n",
      "Skipping S029: insufficient data\n",
      "\n",
      "================================================================================\n",
      "Training subject: S030\n",
      "================================================================================\n",
      "Error loading S030R03_preproc_raw.fif: No stim channels found, but the raw object has annotations. Consider using mne.events_from_annotations to convert these to events.\n",
      "Error loading S030R04_preproc_raw.fif: No stim channels found, but the raw object has annotations. Consider using mne.events_from_annotations to convert these to events.\n",
      "Error loading S030R05_preproc_raw.fif: No stim channels found, but the raw object has annotations. Consider using mne.events_from_annotations to convert these to events.\n",
      "Error loading S030R06_preproc_raw.fif: No stim channels found, but the raw object has annotations. Consider using mne.events_from_annotations to convert these to events.\n",
      "Error loading S030R07_preproc_raw.fif: No stim channels found, but the raw object has annotations. Consider using mne.events_from_annotations to convert these to events.\n",
      "Error loading S030R08_preproc_raw.fif: No stim channels found, but the raw object has annotations. Consider using mne.events_from_annotations to convert these to events.\n",
      "Error loading S030R09_preproc_raw.fif: No stim channels found, but the raw object has annotations. Consider using mne.events_from_annotations to convert these to events.\n",
      "Error loading S030R10_preproc_raw.fif: No stim channels found, but the raw object has annotations. Consider using mne.events_from_annotations to convert these to events.\n"
     ]
    },
    {
     "name": "stderr",
     "output_type": "stream",
     "text": [
      "Training subjects:  80%|████████  | 16/20 [00:10<00:02,  1.59it/s]"
     ]
    },
    {
     "name": "stdout",
     "output_type": "stream",
     "text": [
      "Error loading S030R11_preproc_raw.fif: No stim channels found, but the raw object has annotations. Consider using mne.events_from_annotations to convert these to events.\n",
      "Error loading S030R12_preproc_raw.fif: No stim channels found, but the raw object has annotations. Consider using mne.events_from_annotations to convert these to events.\n",
      "Error loading S030R13_preproc_raw.fif: No stim channels found, but the raw object has annotations. Consider using mne.events_from_annotations to convert these to events.\n",
      "Error loading S030R14_preproc_raw.fif: No stim channels found, but the raw object has annotations. Consider using mne.events_from_annotations to convert these to events.\n",
      "Skipping S030: insufficient data\n",
      "\n",
      "================================================================================\n",
      "Training subject: S033\n",
      "================================================================================\n",
      "Error loading S033R03_preproc_raw.fif: No stim channels found, but the raw object has annotations. Consider using mne.events_from_annotations to convert these to events.\n",
      "Error loading S033R04_preproc_raw.fif: No stim channels found, but the raw object has annotations. Consider using mne.events_from_annotations to convert these to events.\n",
      "Error loading S033R05_preproc_raw.fif: No stim channels found, but the raw object has annotations. Consider using mne.events_from_annotations to convert these to events.\n",
      "Error loading S033R06_preproc_raw.fif: No stim channels found, but the raw object has annotations. Consider using mne.events_from_annotations to convert these to events.\n",
      "Error loading S033R07_preproc_raw.fif: No stim channels found, but the raw object has annotations. Consider using mne.events_from_annotations to convert these to events.\n",
      "Error loading S033R08_preproc_raw.fif: No stim channels found, but the raw object has annotations. Consider using mne.events_from_annotations to convert these to events.\n"
     ]
    },
    {
     "name": "stderr",
     "output_type": "stream",
     "text": [
      "Training subjects:  85%|████████▌ | 17/20 [00:10<00:01,  1.66it/s]"
     ]
    },
    {
     "name": "stdout",
     "output_type": "stream",
     "text": [
      "Error loading S033R09_preproc_raw.fif: No stim channels found, but the raw object has annotations. Consider using mne.events_from_annotations to convert these to events.\n",
      "Error loading S033R10_preproc_raw.fif: No stim channels found, but the raw object has annotations. Consider using mne.events_from_annotations to convert these to events.\n",
      "Error loading S033R11_preproc_raw.fif: No stim channels found, but the raw object has annotations. Consider using mne.events_from_annotations to convert these to events.\n",
      "Error loading S033R12_preproc_raw.fif: No stim channels found, but the raw object has annotations. Consider using mne.events_from_annotations to convert these to events.\n",
      "Error loading S033R13_preproc_raw.fif: No stim channels found, but the raw object has annotations. Consider using mne.events_from_annotations to convert these to events.\n",
      "Error loading S033R14_preproc_raw.fif: No stim channels found, but the raw object has annotations. Consider using mne.events_from_annotations to convert these to events.\n",
      "Skipping S033: insufficient data\n",
      "\n",
      "================================================================================\n",
      "Training subject: S034\n",
      "================================================================================\n",
      "Error loading S034R03_preproc_raw.fif: No stim channels found, but the raw object has annotations. Consider using mne.events_from_annotations to convert these to events.\n",
      "Error loading S034R04_preproc_raw.fif: No stim channels found, but the raw object has annotations. Consider using mne.events_from_annotations to convert these to events.\n",
      "Error loading S034R05_preproc_raw.fif: No stim channels found, but the raw object has annotations. Consider using mne.events_from_annotations to convert these to events.\n",
      "Error loading S034R06_preproc_raw.fif: No stim channels found, but the raw object has annotations. Consider using mne.events_from_annotations to convert these to events.\n",
      "Error loading S034R07_preproc_raw.fif: No stim channels found, but the raw object has annotations. Consider using mne.events_from_annotations to convert these to events.\n",
      "Error loading S034R08_preproc_raw.fif: No stim channels found, but the raw object has annotations. Consider using mne.events_from_annotations to convert these to events.\n",
      "Error loading S034R09_preproc_raw.fif: No stim channels found, but the raw object has annotations. Consider using mne.events_from_annotations to convert these to events.\n",
      "Error loading S034R10_preproc_raw.fif: No stim channels found, but the raw object has annotations. Consider using mne.events_from_annotations to convert these to events.\n",
      "Error loading S034R11_preproc_raw.fif: No stim channels found, but the raw object has annotations. Consider using mne.events_from_annotations to convert these to events.\n"
     ]
    },
    {
     "name": "stderr",
     "output_type": "stream",
     "text": [
      "Training subjects:  90%|█████████ | 18/20 [00:11<00:01,  1.64it/s]"
     ]
    },
    {
     "name": "stdout",
     "output_type": "stream",
     "text": [
      "Error loading S034R12_preproc_raw.fif: No stim channels found, but the raw object has annotations. Consider using mne.events_from_annotations to convert these to events.\n",
      "Error loading S034R13_preproc_raw.fif: No stim channels found, but the raw object has annotations. Consider using mne.events_from_annotations to convert these to events.\n",
      "Error loading S034R14_preproc_raw.fif: No stim channels found, but the raw object has annotations. Consider using mne.events_from_annotations to convert these to events.\n",
      "Skipping S034: insufficient data\n",
      "\n",
      "================================================================================\n",
      "Training subject: S035\n",
      "================================================================================\n",
      "Error loading S035R03_preproc_raw.fif: No stim channels found, but the raw object has annotations. Consider using mne.events_from_annotations to convert these to events.\n",
      "Error loading S035R04_preproc_raw.fif: No stim channels found, but the raw object has annotations. Consider using mne.events_from_annotations to convert these to events.\n",
      "Error loading S035R05_preproc_raw.fif: No stim channels found, but the raw object has annotations. Consider using mne.events_from_annotations to convert these to events.\n",
      "Error loading S035R06_preproc_raw.fif: No stim channels found, but the raw object has annotations. Consider using mne.events_from_annotations to convert these to events.\n",
      "Error loading S035R07_preproc_raw.fif: No stim channels found, but the raw object has annotations. Consider using mne.events_from_annotations to convert these to events.\n",
      "Error loading S035R08_preproc_raw.fif: No stim channels found, but the raw object has annotations. Consider using mne.events_from_annotations to convert these to events.\n",
      "Error loading S035R09_preproc_raw.fif: No stim channels found, but the raw object has annotations. Consider using mne.events_from_annotations to convert these to events.\n",
      "Error loading S035R10_preproc_raw.fif: No stim channels found, but the raw object has annotations. Consider using mne.events_from_annotations to convert these to events.\n",
      "Error loading S035R11_preproc_raw.fif: No stim channels found, but the raw object has annotations. Consider using mne.events_from_annotations to convert these to events.\n",
      "Error loading S035R12_preproc_raw.fif: No stim channels found, but the raw object has annotations. Consider using mne.events_from_annotations to convert these to events.\n"
     ]
    },
    {
     "name": "stderr",
     "output_type": "stream",
     "text": [
      "Training subjects:  95%|█████████▌| 19/20 [00:12<00:00,  1.43it/s]"
     ]
    },
    {
     "name": "stdout",
     "output_type": "stream",
     "text": [
      "Error loading S035R13_preproc_raw.fif: No stim channels found, but the raw object has annotations. Consider using mne.events_from_annotations to convert these to events.\n",
      "Error loading S035R14_preproc_raw.fif: No stim channels found, but the raw object has annotations. Consider using mne.events_from_annotations to convert these to events.\n",
      "Skipping S035: insufficient data\n",
      "\n",
      "================================================================================\n",
      "Training subject: S037\n",
      "================================================================================\n",
      "Error loading S037R03_preproc_raw.fif: No stim channels found, but the raw object has annotations. Consider using mne.events_from_annotations to convert these to events.\n",
      "Error loading S037R04_preproc_raw.fif: No stim channels found, but the raw object has annotations. Consider using mne.events_from_annotations to convert these to events.\n",
      "Error loading S037R05_preproc_raw.fif: No stim channels found, but the raw object has annotations. Consider using mne.events_from_annotations to convert these to events.\n",
      "Error loading S037R06_preproc_raw.fif: No stim channels found, but the raw object has annotations. Consider using mne.events_from_annotations to convert these to events.\n",
      "Error loading S037R07_preproc_raw.fif: No stim channels found, but the raw object has annotations. Consider using mne.events_from_annotations to convert these to events.\n",
      "Error loading S037R08_preproc_raw.fif: No stim channels found, but the raw object has annotations. Consider using mne.events_from_annotations to convert these to events.\n",
      "Error loading S037R09_preproc_raw.fif: No stim channels found, but the raw object has annotations. Consider using mne.events_from_annotations to convert these to events.\n",
      "Error loading S037R10_preproc_raw.fif: No stim channels found, but the raw object has annotations. Consider using mne.events_from_annotations to convert these to events.\n",
      "Error loading S037R11_preproc_raw.fif: No stim channels found, but the raw object has annotations. Consider using mne.events_from_annotations to convert these to events.\n"
     ]
    },
    {
     "name": "stderr",
     "output_type": "stream",
     "text": [
      "Training subjects: 100%|██████████| 20/20 [00:12<00:00,  1.56it/s]"
     ]
    },
    {
     "name": "stdout",
     "output_type": "stream",
     "text": [
      "Error loading S037R12_preproc_raw.fif: No stim channels found, but the raw object has annotations. Consider using mne.events_from_annotations to convert these to events.\n",
      "Error loading S037R13_preproc_raw.fif: No stim channels found, but the raw object has annotations. Consider using mne.events_from_annotations to convert these to events.\n",
      "Error loading S037R14_preproc_raw.fif: No stim channels found, but the raw object has annotations. Consider using mne.events_from_annotations to convert these to events.\n",
      "Skipping S037: insufficient data\n",
      "\n",
      "================================================================================\n",
      "Training complete for 0 subjects\n",
      "================================================================================\n"
     ]
    },
    {
     "name": "stderr",
     "output_type": "stream",
     "text": [
      "\n"
     ]
    }
   ],
   "source": [
    "all_results = []\n",
    "\n",
    "for subject_id in tqdm(selected_subjects, desc=\"Training subjects\"):\n",
    "    print(f\"\\n{'='*80}\")\n",
    "    print(f\"Training subject: {subject_id}\")\n",
    "    print(f\"{'='*80}\")\n",
    "    \n",
    "    # Load subject data\n",
    "    data, labels, channel_names = load_subject_data(\n",
    "        subject_id, \n",
    "        EXPERIMENT_CONFIG['data']['preprocessed_dir'],\n",
    "        motor_runs,\n",
    "        EXPERIMENT_CONFIG\n",
    "    )\n",
    "    \n",
    "    if data is None or len(data) < 30:  # Need at least 30 trials for 3-fold CV\n",
    "        print(f\"Skipping {subject_id}: insufficient data\")\n",
    "        continue\n",
    "    \n",
    "    print(f\"Data shape: {data.shape}\")\n",
    "    print(f\"Labels: {np.unique(labels, return_counts=True)}\")\n",
    "    print(f\"Channels: {len(channel_names)}\")\n",
    "    \n",
    "    num_channels = data.shape[1]\n",
    "    num_timepoints = data.shape[2]\n",
    "    num_classes = len(np.unique(labels))\n",
    "    \n",
    "    # Perform 3-fold cross-validation\n",
    "    cv_results = cross_validate_subject(\n",
    "        data, labels,\n",
    "        num_channels=num_channels,\n",
    "        num_timepoints=num_timepoints,\n",
    "        num_classes=num_classes,\n",
    "        device=device,\n",
    "        n_splits=EXPERIMENT_CONFIG['model']['n_folds'],\n",
    "        epochs=EXPERIMENT_CONFIG['model']['epochs'],\n",
    "        lr=EXPERIMENT_CONFIG['model']['learning_rate']\n",
    "    )\n",
    "    \n",
    "    print(f\"\\nAverage accuracy (all channels): {cv_results['avg_accuracy']:.4f} ± {cv_results['std_accuracy']:.4f}\")\n",
    "    \n",
    "    # Save results\n",
    "    result = {\n",
    "        'subject': subject_id,\n",
    "        'num_trials': len(data),\n",
    "        'num_channels': num_channels,\n",
    "        'num_timepoints': num_timepoints,\n",
    "        'num_classes': num_classes,\n",
    "        'all_channels_acc': cv_results['avg_accuracy'],\n",
    "        'all_channels_std': cv_results['std_accuracy'],\n",
    "        'adjacency_matrix': cv_results['adjacency_matrix'],\n",
    "        'channel_names': channel_names\n",
    "    }\n",
    "    \n",
    "    all_results.append(result)\n",
    "\n",
    "print(f\"\\n{'='*80}\")\n",
    "print(f\"Training complete for {len(all_results)} subjects\")\n",
    "print(f\"{'='*80}\")"
   ]
  },
  {
   "cell_type": "markdown",
   "metadata": {},
   "source": [
    "## Channel Selection Experiments\n",
    "\n",
    "Test different k values with Edge Selection and Aggregation Selection"
   ]
  },
  {
   "cell_type": "code",
   "execution_count": 15,
   "metadata": {},
   "outputs": [
    {
     "name": "stdout",
     "output_type": "stream",
     "text": [
      "\n",
      "No results available for channel selection experiments.\n"
     ]
    }
   ],
   "source": [
    "channel_selection_results = []\n",
    "\n",
    "if len(all_results) > 0:\n",
    "    for result in tqdm(all_results, desc=\"Channel selection experiments\"):\n",
    "        subject_id = result['subject']\n",
    "        adj_matrix = result['adjacency_matrix']\n",
    "        channel_names = result['channel_names']\n",
    "        \n",
    "        print(f\"\\nProcessing channel selection for {subject_id}\")\n",
    "        \n",
    "        selector = ChannelSelector(adj_matrix, channel_names)\n",
    "        \n",
    "        for method in EXPERIMENT_CONFIG['channel_selection']['methods']:\n",
    "            print(f\"  Method: {method}\")\n",
    "            \n",
    "            for k in EXPERIMENT_CONFIG['channel_selection']['k_values']:\n",
    "                if k == 'all':\n",
    "                    k_val = result['num_channels']\n",
    "                    selected_channels = channel_names\n",
    "                else:\n",
    "                    k_val = min(k, result['num_channels'])  # Don't exceed available channels\n",
    "                    \n",
    "                    if method == 'ES':\n",
    "                        selected_channels, _ = selector.edge_selection(k_val)\n",
    "                    else:  # AS\n",
    "                        selected_channels, _ = selector.aggregation_selection(k_val)\n",
    "                \n",
    "                print(f\"    k={k_val}: {len(selected_channels)} channels selected\")\n",
    "                \n",
    "                channel_selection_results.append({\n",
    "                    'subject': subject_id,\n",
    "                    'method': method,\n",
    "                    'k': k_val,\n",
    "                    'num_selected': len(selected_channels),\n",
    "                    'selected_channels': selected_channels,\n",
    "                    'accuracy_full': result['all_channels_acc']\n",
    "                })\n",
    "\n",
    "    channel_selection_df = pd.DataFrame(channel_selection_results)\n",
    "    print(f\"\\nChannel selection results: {len(channel_selection_df)} experiments\")\n",
    "    display(channel_selection_df.head(10))\n",
    "else:\n",
    "    channel_selection_df = pd.DataFrame()\n",
    "    print(\"\\nNo results available for channel selection experiments.\")"
   ]
  },
  {
   "cell_type": "markdown",
   "metadata": {},
   "source": [
    "## Results Summary"
   ]
  },
  {
   "cell_type": "code",
   "execution_count": 16,
   "metadata": {},
   "outputs": [
    {
     "name": "stdout",
     "output_type": "stream",
     "text": [
      "================================================================================\n",
      "OVERALL RESULTS SUMMARY\n",
      "================================================================================\n",
      "\n",
      "Subjects trained: 0\n",
      "\n",
      "No subjects were successfully trained. Check the data loading and preprocessing steps.\n"
     ]
    }
   ],
   "source": [
    "results_df = pd.DataFrame(all_results)\n",
    "\n",
    "print(\"=\" * 80)\n",
    "print(\"OVERALL RESULTS SUMMARY\")\n",
    "print(\"=\" * 80)\n",
    "print(f\"\\nSubjects trained: {len(results_df)}\")\n",
    "\n",
    "if len(results_df) > 0:\n",
    "    print(f\"Mean accuracy (all channels): {results_df['all_channels_acc'].mean():.4f} ± {results_df['all_channels_acc'].std():.4f}\")\n",
    "    print(f\"Best subject: {results_df.loc[results_df['all_channels_acc'].idxmax(), 'subject']} ({results_df['all_channels_acc'].max():.4f})\")\n",
    "    print(f\"Worst subject: {results_df.loc[results_df['all_channels_acc'].idxmin(), 'subject']} ({results_df['all_channels_acc'].min():.4f})\")\n",
    "\n",
    "    # Save results\n",
    "    results_path = EXPERIMENT_CONFIG['output']['results_dir'] / 'subject_results.csv'\n",
    "    results_df[['subject', 'num_trials', 'num_channels', 'all_channels_acc', 'all_channels_std']].to_csv(results_path, index=False)\n",
    "    print(f\"\\nResults saved to: {results_path}\")\n",
    "\n",
    "    display(results_df[['subject', 'num_trials', 'num_channels', 'all_channels_acc', 'all_channels_std']].head(10))\n",
    "else:\n",
    "    print(\"\\nNo subjects were successfully trained. Check the data loading and preprocessing steps.\")\n",
    "    results_df"
   ]
  },
  {
   "cell_type": "markdown",
   "metadata": {},
   "source": [
    "## Visualizations"
   ]
  },
  {
   "cell_type": "code",
   "execution_count": 17,
   "metadata": {},
   "outputs": [
    {
     "name": "stdout",
     "output_type": "stream",
     "text": [
      "No results to visualize. Please ensure subjects were successfully trained.\n"
     ]
    }
   ],
   "source": [
    "if len(results_df) > 0:\n",
    "    fig, axes = plt.subplots(2, 2, figsize=(16, 12))\n",
    "\n",
    "    # Accuracy distribution\n",
    "    axes[0, 0].hist(results_df['all_channels_acc'], bins=20, color='steelblue', edgecolor='black', alpha=0.7)\n",
    "    axes[0, 0].axvline(results_df['all_channels_acc'].mean(), color='red', linestyle='--', linewidth=2, label='Mean')\n",
    "    axes[0, 0].set_title('Accuracy Distribution (All Channels)', fontsize=14, fontweight='bold')\n",
    "    axes[0, 0].set_xlabel('Accuracy')\n",
    "    axes[0, 0].set_ylabel('Frequency')\n",
    "    axes[0, 0].legend()\n",
    "    axes[0, 0].grid(True, alpha=0.3)\n",
    "\n",
    "    # Accuracy vs num trials\n",
    "    axes[0, 1].scatter(results_df['num_trials'], results_df['all_channels_acc'], alpha=0.6, s=100)\n",
    "    axes[0, 1].set_title('Accuracy vs Number of Trials', fontsize=14, fontweight='bold')\n",
    "    axes[0, 1].set_xlabel('Number of Trials')\n",
    "    axes[0, 1].set_ylabel('Accuracy')\n",
    "    axes[0, 1].grid(True, alpha=0.3)\n",
    "\n",
    "    # Top 10 subjects\n",
    "    top_10 = results_df.nlargest(min(10, len(results_df)), 'all_channels_acc')\n",
    "    axes[1, 0].barh(range(len(top_10)), top_10['all_channels_acc'], color='green', alpha=0.7)\n",
    "    axes[1, 0].set_yticks(range(len(top_10)))\n",
    "    axes[1, 0].set_yticklabels(top_10['subject'])\n",
    "    axes[1, 0].set_title(f'Top {len(top_10)} Subjects by Accuracy', fontsize=14, fontweight='bold')\n",
    "    axes[1, 0].set_xlabel('Accuracy')\n",
    "    axes[1, 0].invert_yaxis()\n",
    "    axes[1, 0].grid(True, alpha=0.3, axis='x')\n",
    "\n",
    "    # Subject ranking\n",
    "    sorted_results = results_df.sort_values('all_channels_acc')\n",
    "    axes[1, 1].plot(range(len(sorted_results)), sorted_results['all_channels_acc'], marker='o', markersize=4, alpha=0.6)\n",
    "    axes[1, 1].set_title('Subject Ranking', fontsize=14, fontweight='bold')\n",
    "    axes[1, 1].set_xlabel('Rank')\n",
    "    axes[1, 1].set_ylabel('Accuracy')\n",
    "    axes[1, 1].grid(True, alpha=0.3)\n",
    "\n",
    "    plt.tight_layout()\n",
    "    plt.savefig(EXPERIMENT_CONFIG['output']['results_dir'] / 'results_summary.png', dpi=300, bbox_inches='tight')\n",
    "    plt.show()\n",
    "\n",
    "    print(f\"Visualizations saved to: {EXPERIMENT_CONFIG['output']['results_dir']}\")\n",
    "else:\n",
    "    print(\"No results to visualize. Please ensure subjects were successfully trained.\")"
   ]
  },
  {
   "cell_type": "markdown",
   "metadata": {},
   "source": [
    "## Visualize Learned Adjacency Matrix (Example Subject)"
   ]
  },
  {
   "cell_type": "code",
   "execution_count": 18,
   "metadata": {},
   "outputs": [],
   "source": [
    "if len(all_results) > 0:\n",
    "    # Pick best subject\n",
    "    best_idx = results_df['all_channels_acc'].idxmax()\n",
    "    best_result = all_results[best_idx]\n",
    "    \n",
    "    print(f\"Visualizing adjacency matrix for best subject: {best_result['subject']}\")\n",
    "    print(f\"Accuracy: {best_result['all_channels_acc']:.4f}\")\n",
    "    \n",
    "    selector = ChannelSelector(best_result['adjacency_matrix'], best_result['channel_names'])\n",
    "    \n",
    "    fig = selector.visualize_adjacency(\n",
    "        save_path=EXPERIMENT_CONFIG['output']['results_dir'] / f\"adjacency_{best_result['subject']}.png\"\n",
    "    )\n",
    "    plt.show()\n",
    "    \n",
    "    # Show top edges\n",
    "    print(\"\\nTop 10 Edges (Edge Selection):\")\n",
    "    selected_channels_es, _ = selector.edge_selection(10)\n",
    "    print(f\"Selected channels: {selected_channels_es}\")\n",
    "    \n",
    "    print(\"\\nTop 10 Channels (Aggregation Selection):\")\n",
    "    selected_channels_as, _ = selector.aggregation_selection(10)\n",
    "    print(f\"Selected channels: {selected_channels_as}\")"
   ]
  },
  {
   "cell_type": "markdown",
   "metadata": {},
   "source": [
    "## Export Results"
   ]
  },
  {
   "cell_type": "code",
   "execution_count": 19,
   "metadata": {},
   "outputs": [
    {
     "name": "stdout",
     "output_type": "stream",
     "text": [
      "No results to export.\n"
     ]
    }
   ],
   "source": [
    "if len(results_df) > 0:\n",
    "    # Save subject results\n",
    "    results_path = EXPERIMENT_CONFIG['output']['results_dir'] / 'subject_results.csv'\n",
    "    results_df[['subject', 'num_trials', 'num_channels', 'all_channels_acc', 'all_channels_std']].to_csv(results_path, index=False)\n",
    "    \n",
    "    # Save channel selection results\n",
    "    if len(channel_selection_df) > 0:\n",
    "        channel_selection_path = EXPERIMENT_CONFIG['output']['results_dir'] / 'channel_selection_results.csv'\n",
    "        channel_selection_df.to_csv(channel_selection_path, index=False)\n",
    "    else:\n",
    "        channel_selection_path = None\n",
    "    \n",
    "    # Save experiment config\n",
    "    config_path = EXPERIMENT_CONFIG['output']['results_dir'] / 'experiment_config.json'\n",
    "    with open(config_path, 'w') as f:\n",
    "        json.dump(EXPERIMENT_CONFIG, f, indent=2, default=str)\n",
    "    \n",
    "    print(\"All results exported successfully!\")\n",
    "    print(f\"  - Subject results: {results_path}\")\n",
    "    if channel_selection_path:\n",
    "        print(f\"  - Channel selection: {channel_selection_path}\")\n",
    "    print(f\"  - Config: {config_path}\")\n",
    "else:\n",
    "    print(\"No results to export.\")"
   ]
  }
 ],
 "metadata": {
  "kernelspec": {
   "display_name": "Python 3",
   "language": "python",
   "name": "python3"
  },
  "language_info": {
   "codemirror_mode": {
    "name": "ipython",
    "version": 3
   },
   "file_extension": ".py",
   "mimetype": "text/x-python",
   "name": "python",
   "nbconvert_exporter": "python",
   "pygments_lexer": "ipython3",
   "version": "3.12.5"
  }
 },
 "nbformat": 4,
 "nbformat_minor": 4
}

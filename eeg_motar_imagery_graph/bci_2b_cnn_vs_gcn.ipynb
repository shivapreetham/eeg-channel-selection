{
 "cells": [
  {
   "cell_type": "markdown",
   "metadata": {},
   "source": [
    "# BCI Competition IV Dataset 2b: CNN vs GCN"
   ]
  },
  {
   "cell_type": "code",
   "execution_count": 31,
   "metadata": {},
   "outputs": [],
   "source": [
    "import numpy as np\n",
    "import mne\n",
    "import tensorflow as tf\n",
    "from tensorflow import keras\n",
    "from tensorflow.keras import layers\n",
    "from sklearn.model_selection import train_test_split\n",
    "from sklearn.preprocessing import StandardScaler\n",
    "from sklearn.metrics import confusion_matrix, classification_report, precision_recall_fscore_support\n",
    "import pandas as pd\n",
    "import glob\n",
    "import matplotlib.pyplot as plt\n",
    "import seaborn as sns\n",
    "import warnings\n",
    "warnings.filterwarnings('ignore')\n",
    "\n",
    "sns.set_style(\"whitegrid\")\n",
    "plt.rcParams['figure.figsize'] = (12, 6)"
   ]
  },
  {
   "cell_type": "markdown",
   "metadata": {},
   "source": [
    "## Load BCI Competition IV Dataset 2b (2-class motor imagery)"
   ]
  },
  {
   "cell_type": "code",
   "execution_count": 32,
   "metadata": {},
   "outputs": [
    {
     "name": "stdout",
     "output_type": "stream",
     "text": [
      "Found 27 training files\n",
      "BCI_2b\\B0101T.gdf: 120 epochs, 6 channels\n",
      "BCI_2b\\B0102T.gdf: 120 epochs, 6 channels\n",
      "BCI_2b\\B0103T.gdf: 160 epochs, 6 channels\n",
      "BCI_2b\\B0201T.gdf: 120 epochs, 6 channels\n",
      "BCI_2b\\B0202T.gdf: 120 epochs, 6 channels\n",
      "BCI_2b\\B0203T.gdf: 160 epochs, 6 channels\n",
      "BCI_2b\\B0301T.gdf: 120 epochs, 6 channels\n",
      "BCI_2b\\B0302T.gdf: 120 epochs, 6 channels\n",
      "BCI_2b\\B0303T.gdf: 160 epochs, 6 channels\n",
      "BCI_2b\\B0401T.gdf: 120 epochs, 6 channels\n",
      "BCI_2b\\B0402T.gdf: 140 epochs, 6 channels\n",
      "BCI_2b\\B0403T.gdf: 160 epochs, 6 channels\n",
      "BCI_2b\\B0501T.gdf: 120 epochs, 6 channels\n",
      "BCI_2b\\B0502T.gdf: 140 epochs, 6 channels\n",
      "BCI_2b\\B0503T.gdf: 160 epochs, 6 channels\n",
      "BCI_2b\\B0601T.gdf: 120 epochs, 6 channels\n",
      "BCI_2b\\B0602T.gdf: 120 epochs, 6 channels\n",
      "BCI_2b\\B0603T.gdf: 160 epochs, 6 channels\n",
      "BCI_2b\\B0701T.gdf: 120 epochs, 6 channels\n",
      "BCI_2b\\B0702T.gdf: 120 epochs, 6 channels\n",
      "BCI_2b\\B0703T.gdf: 160 epochs, 6 channels\n",
      "BCI_2b\\B0801T.gdf: 160 epochs, 6 channels\n",
      "BCI_2b\\B0802T.gdf: 120 epochs, 6 channels\n",
      "BCI_2b\\B0803T.gdf: 160 epochs, 6 channels\n",
      "BCI_2b\\B0901T.gdf: 120 epochs, 6 channels\n",
      "BCI_2b\\B0902T.gdf: 120 epochs, 6 channels\n",
      "BCI_2b\\B0903T.gdf: 160 epochs, 6 channels\n",
      "\n",
      "Total: (3680, 6, 1001) - 2 classes (left/right hand)\n"
     ]
    }
   ],
   "source": [
    "data_list = []\n",
    "labels_list = []\n",
    "\n",
    "train_files = sorted(glob.glob('BCI_2b/*T.gdf'))\n",
    "print(f'Found {len(train_files)} training files')\n",
    "\n",
    "for train_file in train_files:\n",
    "    raw = mne.io.read_raw_gdf(train_file, preload=True, verbose=False)\n",
    "    events, event_id = mne.events_from_annotations(raw, verbose=False)\n",
    "    \n",
    "    mi_event_ids = {k: v for k, v in event_id.items() if k in ['769', '770']}\n",
    "    \n",
    "    if len(mi_event_ids) > 0:\n",
    "        epochs = mne.Epochs(raw, events, event_id=mi_event_ids,\n",
    "                           tmin=0, tmax=4, baseline=None, preload=True, verbose=False)\n",
    "        \n",
    "        data = epochs.get_data()\n",
    "        labels = epochs.events[:, -1]\n",
    "        label_mapping = {v: i for i, (k, v) in enumerate(sorted(mi_event_ids.items(), key=lambda x: x[1]))}\n",
    "        labels = np.array([label_mapping[l] for l in labels])\n",
    "        \n",
    "        data_list.append(data)\n",
    "        labels_list.append(labels)\n",
    "        print(f'{train_file}: {data.shape[0]} epochs, {data.shape[1]} channels')\n",
    "\n",
    "X = np.concatenate(data_list, axis=0)\n",
    "y = np.concatenate(labels_list, axis=0)\n",
    "\n",
    "print(f'\\nTotal: {X.shape} - 2 classes (left/right hand)')\n",
    "num_channels = X.shape[1]\n",
    "num_timepoints = X.shape[2]"
   ]
  },
  {
   "cell_type": "markdown",
   "metadata": {},
   "source": [
    "## Prepare Data"
   ]
  },
  {
   "cell_type": "code",
   "execution_count": 33,
   "metadata": {},
   "outputs": [
    {
     "name": "stdout",
     "output_type": "stream",
     "text": [
      "Train: (2944, 6, 1001), Test: (736, 6, 1001)\n"
     ]
    }
   ],
   "source": [
    "X_train, X_test, y_train, y_test = train_test_split(X, y, test_size=0.2, random_state=42, stratify=y)\n",
    "\n",
    "scaler = StandardScaler()\n",
    "X_train = scaler.fit_transform(X_train.reshape(-1, num_timepoints)).reshape(-1, num_channels, num_timepoints)\n",
    "X_test = scaler.transform(X_test.reshape(-1, num_timepoints)).reshape(-1, num_channels, num_timepoints)\n",
    "\n",
    "y_train_cat = keras.utils.to_categorical(y_train, 2)\n",
    "y_test_cat = keras.utils.to_categorical(y_test, 2)\n",
    "\n",
    "print(f'Train: {X_train.shape}, Test: {X_test.shape}')"
   ]
  },
  {
   "cell_type": "markdown",
   "metadata": {},
   "source": [
    "## Compute Graph Structure"
   ]
  },
  {
   "cell_type": "code",
   "execution_count": 34,
   "metadata": {},
   "outputs": [
    {
     "name": "stdout",
     "output_type": "stream",
     "text": [
      "Adjacency: (6, 6), Laplacian: (6, 6)\n"
     ]
    }
   ],
   "source": [
    "def compute_adjacency_from_pearson(data):\n",
    "    n_epochs, n_channels, n_timepoints = data.shape\n",
    "    data_reshaped = data.transpose(1, 0, 2).reshape(n_channels, -1)\n",
    "    correlation_matrix = np.corrcoef(data_reshaped)\n",
    "    adjacency = np.abs(correlation_matrix)\n",
    "    np.fill_diagonal(adjacency, 1.0)\n",
    "    return adjacency.astype(np.float32)\n",
    "\n",
    "def compute_laplacian(adjacency):\n",
    "    D = np.sum(adjacency, axis=1)\n",
    "    D_sqrt_inv = np.diag(1.0 / np.sqrt(D + 1e-6))\n",
    "    L = np.eye(len(adjacency)) - D_sqrt_inv @ adjacency @ D_sqrt_inv\n",
    "    lambda_max = np.linalg.eigvalsh(L)[-1]\n",
    "    L_rescaled = (2.0 / lambda_max) * L - np.eye(len(L))\n",
    "    return L_rescaled.astype(np.float32)\n",
    "\n",
    "adjacency = compute_adjacency_from_pearson(X_train)\n",
    "L_rescaled = compute_laplacian(adjacency)\n",
    "print(f'Adjacency: {adjacency.shape}, Laplacian: {L_rescaled.shape}')"
   ]
  },
  {
   "cell_type": "markdown",
   "metadata": {},
   "source": [
    "## Chebyshev Graph Convolution"
   ]
  },
  {
   "cell_type": "code",
   "execution_count": 35,
   "metadata": {},
   "outputs": [],
   "source": [
    "class ChebyshevGraphConv(layers.Layer):\n",
    "    def __init__(self, num_filters, K=3, **kwargs):\n",
    "        super().__init__(**kwargs)\n",
    "        self.num_filters = num_filters\n",
    "        self.K = K\n",
    "\n",
    "    def build(self, input_shape):\n",
    "        self.theta = [self.add_weight(shape=(input_shape[0][-1], self.num_filters),\n",
    "                                     initializer='glorot_uniform', name=f'theta_{k}')\n",
    "                     for k in range(self.K)]\n",
    "        super().build(input_shape)\n",
    "\n",
    "    def call(self, inputs):\n",
    "        x, L_rescaled = inputs\n",
    "        Tx_0 = x\n",
    "        Tx_1 = tf.matmul(L_rescaled, x)\n",
    "        out = tf.matmul(Tx_0, self.theta[0])\n",
    "        if self.K > 1:\n",
    "            out += tf.matmul(Tx_1, self.theta[1])\n",
    "        for k in range(2, self.K):\n",
    "            Tx_2 = 2 * tf.matmul(L_rescaled, Tx_1) - Tx_0\n",
    "            out += tf.matmul(Tx_2, self.theta[k])\n",
    "            Tx_0, Tx_1 = Tx_1, Tx_2\n",
    "        return out"
   ]
  },
  {
   "cell_type": "markdown",
   "metadata": {},
   "source": [
    "## CNN Model"
   ]
  },
  {
   "cell_type": "code",
   "execution_count": 36,
   "metadata": {},
   "outputs": [
    {
     "name": "stdout",
     "output_type": "stream",
     "text": [
      "CNN: 587,074 parameters\n"
     ]
    }
   ],
   "source": [
    "def create_cnn(input_shape, num_classes):\n",
    "    inputs = layers.Input(shape=input_shape)\n",
    "    x = layers.Permute((2, 1))(inputs)\n",
    "    \n",
    "    x = layers.Conv1D(64, 50, activation='relu', padding='same')(x)\n",
    "    x = layers.BatchNormalization()(x)\n",
    "    x = layers.MaxPooling1D(2)(x)\n",
    "    x = layers.Dropout(0.3)(x)\n",
    "    \n",
    "    x = layers.Conv1D(128, 25, activation='relu', padding='same')(x)\n",
    "    x = layers.BatchNormalization()(x)\n",
    "    x = layers.MaxPooling1D(2)(x)\n",
    "    x = layers.Dropout(0.3)(x)\n",
    "    \n",
    "    x = layers.Conv1D(256, 10, activation='relu', padding='same')(x)\n",
    "    x = layers.BatchNormalization()(x)\n",
    "    x = layers.GlobalAveragePooling1D()(x)\n",
    "    \n",
    "    x = layers.Dense(128, activation='relu')(x)\n",
    "    x = layers.Dropout(0.5)(x)\n",
    "    outputs = layers.Dense(num_classes, activation='softmax')(x)\n",
    "    \n",
    "    model = keras.Model(inputs, outputs)\n",
    "    model.compile(optimizer='adam', loss='categorical_crossentropy', metrics=['accuracy'])\n",
    "    return model\n",
    "\n",
    "cnn_model = create_cnn((num_channels, num_timepoints), 2)\n",
    "print(f'CNN: {cnn_model.count_params():,} parameters')"
   ]
  },
  {
   "cell_type": "markdown",
   "metadata": {},
   "source": [
    "## GCN Model"
   ]
  },
  {
   "cell_type": "code",
   "execution_count": 37,
   "metadata": {},
   "outputs": [
    {
     "name": "stdout",
     "output_type": "stream",
     "text": [
      "GCN: 291,010 parameters\n"
     ]
    }
   ],
   "source": [
    "def create_gcn(input_shape, num_classes, num_channels, L_rescaled):\n",
    "    inputs = layers.Input(shape=input_shape)\n",
    "    x = layers.Permute((2, 1))(inputs)\n",
    "    \n",
    "    x = layers.Conv1D(64, 50, activation='relu', padding='same')(x)\n",
    "    x = layers.BatchNormalization()(x)\n",
    "    x = layers.MaxPooling1D(2)(x)\n",
    "    x = layers.Dropout(0.3)(x)\n",
    "    \n",
    "    x = layers.Conv1D(128, 25, activation='relu', padding='same')(x)\n",
    "    x = layers.BatchNormalization()(x)\n",
    "    x = layers.GlobalAveragePooling1D()(x)\n",
    "    cnn_features = x\n",
    "    \n",
    "    channel_input = layers.Input(shape=(num_channels, num_timepoints))\n",
    "    channel_avg = layers.Lambda(lambda x: tf.reduce_mean(x, axis=-1, keepdims=True))(channel_input)\n",
    "    \n",
    "    L_tensor = tf.constant(L_rescaled, dtype=tf.float32)\n",
    "    graph_features = ChebyshevGraphConv(64, K=2)([channel_avg, L_tensor])\n",
    "    graph_features = layers.Flatten()(graph_features)\n",
    "    \n",
    "    combined = layers.Concatenate()([cnn_features, graph_features])\n",
    "    x = layers.Dense(128, activation='relu')(combined)\n",
    "    x = layers.Dropout(0.5)(x)\n",
    "    outputs = layers.Dense(num_classes, activation='softmax')(x)\n",
    "    \n",
    "    model = keras.Model([inputs, channel_input], outputs)\n",
    "    model.compile(optimizer='adam', loss='categorical_crossentropy', metrics=['accuracy'])\n",
    "    return model\n",
    "\n",
    "gcn_model = create_gcn((num_channels, num_timepoints), 2, num_channels, L_rescaled)\n",
    "print(f'GCN: {gcn_model.count_params():,} parameters')"
   ]
  },
  {
   "cell_type": "markdown",
   "metadata": {},
   "source": [
    "## Metrics Callback"
   ]
  },
  {
   "cell_type": "code",
   "execution_count": 38,
   "metadata": {},
   "outputs": [
    {
     "name": "stdout",
     "output_type": "stream",
     "text": [
      "Epoch 1/50\n",
      "\u001b[1m37/37\u001b[0m \u001b[32m━━━━━━━━━━━━━━━━━━━━\u001b[0m\u001b[37m\u001b[0m \u001b[1m91s\u001b[0m 2s/step - accuracy: 0.6200 - loss: 0.6771 - val_accuracy: 0.5993 - val_loss: 0.6389 - learning_rate: 0.0010\n",
      "Epoch 2/50\n",
      "\u001b[1m37/37\u001b[0m \u001b[32m━━━━━━━━━━━━━━━━━━━━\u001b[0m\u001b[37m\u001b[0m \u001b[1m79s\u001b[0m 2s/step - accuracy: 0.6548 - loss: 0.6165 - val_accuracy: 0.6265 - val_loss: 0.6460 - learning_rate: 0.0010\n",
      "Epoch 3/50\n",
      "\u001b[1m37/37\u001b[0m \u001b[32m━━━━━━━━━━━━━━━━━━━━\u001b[0m\u001b[37m\u001b[0m \u001b[1m72s\u001b[0m 2s/step - accuracy: 0.6726 - loss: 0.5845 - val_accuracy: 0.6672 - val_loss: 0.6016 - learning_rate: 0.0010\n",
      "Epoch 4/50\n",
      "\u001b[1m37/37\u001b[0m \u001b[32m━━━━━━━━━━━━━━━━━━━━\u001b[0m\u001b[37m\u001b[0m \u001b[1m59s\u001b[0m 2s/step - accuracy: 0.6824 - loss: 0.5743 - val_accuracy: 0.6706 - val_loss: 0.5774 - learning_rate: 0.0010\n",
      "Epoch 5/50\n",
      "\u001b[1m37/37\u001b[0m \u001b[32m━━━━━━━━━━━━━━━━━━━━\u001b[0m\u001b[37m\u001b[0m \u001b[1m71s\u001b[0m 2s/step - accuracy: 0.7019 - loss: 0.5471 - val_accuracy: 0.6910 - val_loss: 0.5564 - learning_rate: 0.0010\n",
      "Epoch 6/50\n",
      "\u001b[1m37/37\u001b[0m \u001b[32m━━━━━━━━━━━━━━━━━━━━\u001b[0m\u001b[37m\u001b[0m \u001b[1m84s\u001b[0m 2s/step - accuracy: 0.7197 - loss: 0.5203 - val_accuracy: 0.5959 - val_loss: 0.6656 - learning_rate: 0.0010\n",
      "Epoch 7/50\n",
      "\u001b[1m37/37\u001b[0m \u001b[32m━━━━━━━━━━━━━━━━━━━━\u001b[0m\u001b[37m\u001b[0m \u001b[1m73s\u001b[0m 2s/step - accuracy: 0.7503 - loss: 0.4943 - val_accuracy: 0.6570 - val_loss: 0.6372 - learning_rate: 0.0010\n",
      "Epoch 8/50\n",
      "\u001b[1m37/37\u001b[0m \u001b[32m━━━━━━━━━━━━━━━━━━━━\u001b[0m\u001b[37m\u001b[0m \u001b[1m73s\u001b[0m 2s/step - accuracy: 0.7427 - loss: 0.4927 - val_accuracy: 0.7114 - val_loss: 0.5579 - learning_rate: 0.0010\n",
      "Epoch 9/50\n",
      "\u001b[1m37/37\u001b[0m \u001b[32m━━━━━━━━━━━━━━━━━━━━\u001b[0m\u001b[37m\u001b[0m \u001b[1m72s\u001b[0m 2s/step - accuracy: 0.7741 - loss: 0.4605 - val_accuracy: 0.7182 - val_loss: 0.5388 - learning_rate: 0.0010\n",
      "Epoch 10/50\n",
      "\u001b[1m37/37\u001b[0m \u001b[32m━━━━━━━━━━━━━━━━━━━━\u001b[0m\u001b[37m\u001b[0m \u001b[1m73s\u001b[0m 2s/step - accuracy: 0.7682 - loss: 0.4452 - val_accuracy: 0.6995 - val_loss: 0.5936 - learning_rate: 0.0010\n",
      "Epoch 11/50\n",
      "\u001b[1m37/37\u001b[0m \u001b[32m━━━━━━━━━━━━━━━━━━━━\u001b[0m\u001b[37m\u001b[0m \u001b[1m49s\u001b[0m 1s/step - accuracy: 0.7711 - loss: 0.4507 - val_accuracy: 0.7470 - val_loss: 0.4924 - learning_rate: 0.0010\n",
      "Epoch 12/50\n",
      "\u001b[1m37/37\u001b[0m \u001b[32m━━━━━━━━━━━━━━━━━━━━\u001b[0m\u001b[37m\u001b[0m \u001b[1m60s\u001b[0m 2s/step - accuracy: 0.8034 - loss: 0.4059 - val_accuracy: 0.7844 - val_loss: 0.4687 - learning_rate: 0.0010\n",
      "Epoch 13/50\n",
      "\u001b[1m37/37\u001b[0m \u001b[32m━━━━━━━━━━━━━━━━━━━━\u001b[0m\u001b[37m\u001b[0m \u001b[1m57s\u001b[0m 2s/step - accuracy: 0.8021 - loss: 0.4207 - val_accuracy: 0.7284 - val_loss: 0.5558 - learning_rate: 0.0010\n",
      "Epoch 14/50\n",
      "\u001b[1m37/37\u001b[0m \u001b[32m━━━━━━━━━━━━━━━━━━━━\u001b[0m\u001b[37m\u001b[0m \u001b[1m69s\u001b[0m 2s/step - accuracy: 0.7987 - loss: 0.4109 - val_accuracy: 0.7385 - val_loss: 0.5506 - learning_rate: 0.0010\n",
      "Epoch 15/50\n",
      "\u001b[1m37/37\u001b[0m \u001b[32m━━━━━━━━━━━━━━━━━━━━\u001b[0m\u001b[37m\u001b[0m \u001b[1m68s\u001b[0m 2s/step - accuracy: 0.8208 - loss: 0.3796 - val_accuracy: 0.7487 - val_loss: 0.4656 - learning_rate: 0.0010\n",
      "Epoch 16/50\n",
      "\u001b[1m37/37\u001b[0m \u001b[32m━━━━━━━━━━━━━━━━━━━━\u001b[0m\u001b[37m\u001b[0m \u001b[1m60s\u001b[0m 2s/step - accuracy: 0.8140 - loss: 0.3941 - val_accuracy: 0.7708 - val_loss: 0.4850 - learning_rate: 0.0010\n",
      "Epoch 17/50\n",
      "\u001b[1m37/37\u001b[0m \u001b[32m━━━━━━━━━━━━━━━━━━━━\u001b[0m\u001b[37m\u001b[0m \u001b[1m57s\u001b[0m 2s/step - accuracy: 0.8276 - loss: 0.3623 - val_accuracy: 0.7453 - val_loss: 0.5731 - learning_rate: 0.0010\n",
      "Epoch 18/50\n",
      "\u001b[1m37/37\u001b[0m \u001b[32m━━━━━━━━━━━━━━━━━━━━\u001b[0m\u001b[37m\u001b[0m \u001b[1m42s\u001b[0m 1s/step - accuracy: 0.8276 - loss: 0.3546 - val_accuracy: 0.7589 - val_loss: 0.5332 - learning_rate: 0.0010\n",
      "Epoch 19/50\n",
      "\u001b[1m37/37\u001b[0m \u001b[32m━━━━━━━━━━━━━━━━━━━━\u001b[0m\u001b[37m\u001b[0m \u001b[1m58s\u001b[0m 2s/step - accuracy: 0.8467 - loss: 0.3345 - val_accuracy: 0.7674 - val_loss: 0.4534 - learning_rate: 0.0010\n",
      "Epoch 20/50\n",
      "\u001b[1m37/37\u001b[0m \u001b[32m━━━━━━━━━━━━━━━━━━━━\u001b[0m\u001b[37m\u001b[0m \u001b[1m0s\u001b[0m 2s/step - accuracy: 0.8474 - loss: 0.3193\n",
      "Stopping: Accuracy has decreased for 8 consecutive epochs\n",
      "\u001b[1m37/37\u001b[0m \u001b[32m━━━━━━━━━━━━━━━━━━━━\u001b[0m\u001b[37m\u001b[0m \u001b[1m69s\u001b[0m 2s/step - accuracy: 0.8399 - loss: 0.3367 - val_accuracy: 0.7657 - val_loss: 0.5316 - learning_rate: 0.0010\n"
     ]
    }
   ],
   "source": [
    "cnn_metrics_callback = MetricsCallback()\n",
    "\n",
    "cnn_history = cnn_model.fit(\n",
    "    X_train, y_train_cat,\n",
    "    validation_split=0.2,\n",
    "    epochs=50,\n",
    "    batch_size=64,\n",
    "    callbacks=[\n",
    "        cnn_metrics_callback,\n",
    "        keras.callbacks.EarlyStopping(patience=10, restore_best_weights=True, monitor='val_accuracy'),\n",
    "        keras.callbacks.ReduceLROnPlateau(factor=0.5, patience=5, monitor='val_loss', verbose=1)\n",
    "    ],\n",
    "    verbose=1\n",
    ")"
   ]
  },
  {
   "cell_type": "markdown",
   "metadata": {},
   "source": [
    "## Train CNN"
   ]
  },
  {
   "cell_type": "code",
   "execution_count": 39,
   "metadata": {},
   "outputs": [
    {
     "name": "stdout",
     "output_type": "stream",
     "text": [
      "Epoch 1/50\n",
      "\u001b[1m37/37\u001b[0m \u001b[32m━━━━━━━━━━━━━━━━━━━━\u001b[0m\u001b[37m\u001b[0m \u001b[1m51s\u001b[0m 1s/step - accuracy: 0.5928 - loss: 0.6549 - val_accuracy: 0.6333 - val_loss: 0.6202 - learning_rate: 0.0010\n",
      "Epoch 2/50\n",
      "\u001b[1m37/37\u001b[0m \u001b[32m━━━━━━━━━━━━━━━━━━━━\u001b[0m\u001b[37m\u001b[0m \u001b[1m38s\u001b[0m 1s/step - accuracy: 0.6471 - loss: 0.6094 - val_accuracy: 0.6486 - val_loss: 0.6135 - learning_rate: 0.0010\n",
      "Epoch 3/50\n",
      "\u001b[1m37/37\u001b[0m \u001b[32m━━━━━━━━━━━━━━━━━━━━\u001b[0m\u001b[37m\u001b[0m \u001b[1m32s\u001b[0m 868ms/step - accuracy: 0.6586 - loss: 0.5980 - val_accuracy: 0.6078 - val_loss: 0.6317 - learning_rate: 0.0010\n",
      "Epoch 4/50\n",
      "\u001b[1m37/37\u001b[0m \u001b[32m━━━━━━━━━━━━━━━━━━━━\u001b[0m\u001b[37m\u001b[0m \u001b[1m36s\u001b[0m 982ms/step - accuracy: 0.6845 - loss: 0.5727 - val_accuracy: 0.6112 - val_loss: 0.6225 - learning_rate: 0.0010\n",
      "Epoch 5/50\n",
      "\u001b[1m37/37\u001b[0m \u001b[32m━━━━━━━━━━━━━━━━━━━━\u001b[0m\u001b[37m\u001b[0m \u001b[1m35s\u001b[0m 950ms/step - accuracy: 0.7146 - loss: 0.5433 - val_accuracy: 0.7097 - val_loss: 0.5469 - learning_rate: 0.0010\n",
      "Epoch 6/50\n",
      "\u001b[1m37/37\u001b[0m \u001b[32m━━━━━━━━━━━━━━━━━━━━\u001b[0m\u001b[37m\u001b[0m \u001b[1m38s\u001b[0m 1s/step - accuracy: 0.7223 - loss: 0.5206 - val_accuracy: 0.6995 - val_loss: 0.5570 - learning_rate: 0.0010\n",
      "Epoch 7/50\n",
      "\u001b[1m37/37\u001b[0m \u001b[32m━━━━━━━━━━━━━━━━━━━━\u001b[0m\u001b[37m\u001b[0m \u001b[1m41s\u001b[0m 1s/step - accuracy: 0.7321 - loss: 0.5139 - val_accuracy: 0.7080 - val_loss: 0.5439 - learning_rate: 0.0010\n",
      "Epoch 8/50\n",
      "\u001b[1m37/37\u001b[0m \u001b[32m━━━━━━━━━━━━━━━━━━━━\u001b[0m\u001b[37m\u001b[0m \u001b[1m38s\u001b[0m 1s/step - accuracy: 0.7482 - loss: 0.4835 - val_accuracy: 0.7368 - val_loss: 0.5328 - learning_rate: 0.0010\n",
      "Epoch 9/50\n",
      "\u001b[1m37/37\u001b[0m \u001b[32m━━━━━━━━━━━━━━━━━━━━\u001b[0m\u001b[37m\u001b[0m \u001b[1m38s\u001b[0m 1s/step - accuracy: 0.7715 - loss: 0.4574 - val_accuracy: 0.7063 - val_loss: 0.5414 - learning_rate: 0.0010\n",
      "Epoch 10/50\n",
      "\u001b[1m37/37\u001b[0m \u001b[32m━━━━━━━━━━━━━━━━━━━━\u001b[0m\u001b[37m\u001b[0m \u001b[1m40s\u001b[0m 1s/step - accuracy: 0.7694 - loss: 0.4569 - val_accuracy: 0.7436 - val_loss: 0.4943 - learning_rate: 0.0010\n",
      "Epoch 11/50\n",
      "\u001b[1m37/37\u001b[0m \u001b[32m━━━━━━━━━━━━━━━━━━━━\u001b[0m\u001b[37m\u001b[0m \u001b[1m41s\u001b[0m 1s/step - accuracy: 0.7788 - loss: 0.4399 - val_accuracy: 0.7351 - val_loss: 0.5490 - learning_rate: 0.0010\n",
      "Epoch 12/50\n",
      "\u001b[1m37/37\u001b[0m \u001b[32m━━━━━━━━━━━━━━━━━━━━\u001b[0m\u001b[37m\u001b[0m \u001b[1m42s\u001b[0m 1s/step - accuracy: 0.7881 - loss: 0.4300 - val_accuracy: 0.7301 - val_loss: 0.5187 - learning_rate: 0.0010\n",
      "Epoch 13/50\n",
      "\u001b[1m37/37\u001b[0m \u001b[32m━━━━━━━━━━━━━━━━━━━━\u001b[0m\u001b[37m\u001b[0m \u001b[1m40s\u001b[0m 1s/step - accuracy: 0.7932 - loss: 0.4302 - val_accuracy: 0.7267 - val_loss: 0.5949 - learning_rate: 0.0010\n",
      "Epoch 14/50\n",
      "\u001b[1m37/37\u001b[0m \u001b[32m━━━━━━━━━━━━━━━━━━━━\u001b[0m\u001b[37m\u001b[0m \u001b[1m36s\u001b[0m 982ms/step - accuracy: 0.7809 - loss: 0.4451 - val_accuracy: 0.7589 - val_loss: 0.4695 - learning_rate: 0.0010\n",
      "Epoch 15/50\n",
      "\u001b[1m37/37\u001b[0m \u001b[32m━━━━━━━━━━━━━━━━━━━━\u001b[0m\u001b[37m\u001b[0m \u001b[1m40s\u001b[0m 1s/step - accuracy: 0.7902 - loss: 0.4249 - val_accuracy: 0.7368 - val_loss: 0.5411 - learning_rate: 0.0010\n",
      "Epoch 16/50\n",
      "\u001b[1m37/37\u001b[0m \u001b[32m━━━━━━━━━━━━━━━━━━━━\u001b[0m\u001b[37m\u001b[0m \u001b[1m39s\u001b[0m 1s/step - accuracy: 0.7881 - loss: 0.4144 - val_accuracy: 0.7640 - val_loss: 0.4722 - learning_rate: 0.0010\n",
      "Epoch 17/50\n",
      "\u001b[1m37/37\u001b[0m \u001b[32m━━━━━━━━━━━━━━━━━━━━\u001b[0m\u001b[37m\u001b[0m \u001b[1m42s\u001b[0m 1s/step - accuracy: 0.7992 - loss: 0.4159 - val_accuracy: 0.7640 - val_loss: 0.4679 - learning_rate: 0.0010\n",
      "Epoch 18/50\n",
      "\u001b[1m37/37\u001b[0m \u001b[32m━━━━━━━━━━━━━━━━━━━━\u001b[0m\u001b[37m\u001b[0m \u001b[1m44s\u001b[0m 1s/step - accuracy: 0.8157 - loss: 0.3794 - val_accuracy: 0.7504 - val_loss: 0.4867 - learning_rate: 0.0010\n",
      "Epoch 19/50\n",
      "\u001b[1m37/37\u001b[0m \u001b[32m━━━━━━━━━━━━━━━━━━━━\u001b[0m\u001b[37m\u001b[0m \u001b[1m42s\u001b[0m 1s/step - accuracy: 0.8132 - loss: 0.3807 - val_accuracy: 0.7470 - val_loss: 0.6036 - learning_rate: 0.0010\n",
      "Epoch 20/50\n",
      "\u001b[1m37/37\u001b[0m \u001b[32m━━━━━━━━━━━━━━━━━━━━\u001b[0m\u001b[37m\u001b[0m \u001b[1m38s\u001b[0m 1s/step - accuracy: 0.8004 - loss: 0.4081 - val_accuracy: 0.7691 - val_loss: 0.4799 - learning_rate: 0.0010\n",
      "Epoch 21/50\n",
      "\u001b[1m37/37\u001b[0m \u001b[32m━━━━━━━━━━━━━━━━━━━━\u001b[0m\u001b[37m\u001b[0m \u001b[1m30s\u001b[0m 805ms/step - accuracy: 0.8314 - loss: 0.3638 - val_accuracy: 0.7827 - val_loss: 0.4398 - learning_rate: 0.0010\n",
      "Epoch 22/50\n",
      "\u001b[1m37/37\u001b[0m \u001b[32m━━━━━━━━━━━━━━━━━━━━\u001b[0m\u001b[37m\u001b[0m \u001b[1m20s\u001b[0m 544ms/step - accuracy: 0.8433 - loss: 0.3504 - val_accuracy: 0.7878 - val_loss: 0.4410 - learning_rate: 0.0010\n",
      "Epoch 23/50\n",
      "\u001b[1m37/37\u001b[0m \u001b[32m━━━━━━━━━━━━━━━━━━━━\u001b[0m\u001b[37m\u001b[0m \u001b[1m22s\u001b[0m 603ms/step - accuracy: 0.8357 - loss: 0.3440 - val_accuracy: 0.7708 - val_loss: 0.4541 - learning_rate: 0.0010\n",
      "Epoch 24/50\n",
      "\u001b[1m37/37\u001b[0m \u001b[32m━━━━━━━━━━━━━━━━━━━━\u001b[0m\u001b[37m\u001b[0m \u001b[1m21s\u001b[0m 554ms/step - accuracy: 0.8476 - loss: 0.3354 - val_accuracy: 0.7538 - val_loss: 0.5299 - learning_rate: 0.0010\n",
      "Epoch 25/50\n",
      "\u001b[1m37/37\u001b[0m \u001b[32m━━━━━━━━━━━━━━━━━━━━\u001b[0m\u001b[37m\u001b[0m \u001b[1m0s\u001b[0m 525ms/step - accuracy: 0.8608 - loss: 0.3219\n",
      "Stopping: Accuracy has decreased for 3 consecutive epochs\n",
      "\u001b[1m37/37\u001b[0m \u001b[32m━━━━━━━━━━━━━━━━━━━━\u001b[0m\u001b[37m\u001b[0m \u001b[1m21s\u001b[0m 569ms/step - accuracy: 0.8493 - loss: 0.3346 - val_accuracy: 0.7572 - val_loss: 0.5091 - learning_rate: 0.0010\n"
     ]
    }
   ],
   "source": [
    "gcn_metrics_callback = MetricsCallback()\n",
    "\n",
    "gcn_history = gcn_model.fit(\n",
    "    [X_train, X_train], y_train_cat,\n",
    "    validation_split=0.2,\n",
    "    epochs=50,\n",
    "    batch_size=64,\n",
    "    callbacks=[\n",
    "        gcn_metrics_callback,\n",
    "        keras.callbacks.EarlyStopping(patience=10, restore_best_weights=True, monitor='val_accuracy'),\n",
    "        keras.callbacks.ReduceLROnPlateau(factor=0.5, patience=5, monitor='val_loss', verbose=1)\n",
    "    ],\n",
    "    verbose=1\n",
    ")"
   ]
  },
  {
   "cell_type": "markdown",
   "metadata": {},
   "source": [
    "## Visualizations"
   ]
  },
  {
   "cell_type": "code",
   "execution_count": 40,
   "metadata": {},
   "outputs": [
    {
     "name": "stdout",
     "output_type": "stream",
     "text": [
      "======================================================================\n",
      "FINAL RESULTS\n",
      "======================================================================\n",
      "CNN Accuracy: 78.80%\n",
      "GCN Accuracy: 76.90%\n",
      "======================================================================\n",
      "WINNER: CNN (+1.90%)\n"
     ]
    },
    {
     "data": {
      "image/png": "[encoded data removed]",
      "text/plain": [
       "<Figure size 1400x500 with 4 Axes>"
      ]
     },
     "metadata": {},
     "output_type": "display_data"
    },
    {
     "name": "stdout",
     "output_type": "stream",
     "text": [
      "\n",
      "CNN Classification Report:\n",
      "              precision    recall  f1-score   support\n",
      "\n",
      "   Left Hand       0.83      0.73      0.78       368\n",
      "  Right Hand       0.76      0.85      0.80       368\n",
      "\n",
      "    accuracy                           0.79       736\n",
      "   macro avg       0.79      0.79      0.79       736\n",
      "weighted avg       0.79      0.79      0.79       736\n",
      "\n",
      "\n",
      "GCN Classification Report:\n",
      "              precision    recall  f1-score   support\n",
      "\n",
      "   Left Hand       0.80      0.71      0.76       368\n",
      "  Right Hand       0.74      0.83      0.78       368\n",
      "\n",
      "    accuracy                           0.77       736\n",
      "   macro avg       0.77      0.77      0.77       736\n",
      "weighted avg       0.77      0.77      0.77       736\n",
      "\n"
     ]
    },
    {
     "data": {
      "image/png": "[encoded data removed]",
      "text/plain": [
       "<Figure size 1600x500 with 3 Axes>"
      ]
     },
     "metadata": {},
     "output_type": "display_data"
    },
    {
     "name": "stdout",
     "output_type": "stream",
     "text": [
      "\n",
      "======================================================================\n",
      "MODEL COMPARISON SUMMARY\n",
      "======================================================================\n",
      "       Metric     CNN     GCN\n",
      "Test Accuracy  78.80%  76.90%\n",
      "    Test Loss  0.4614  0.4490\n",
      "   Parameters 587,074 291,010\n",
      "Avg Precision  0.7918  0.7726\n",
      "   Avg Recall  0.7880  0.7690\n",
      " Avg F1-Score  0.7874  0.7683\n",
      "======================================================================\n"
     ]
    }
   ],
   "source": [
    "cnn_loss, cnn_acc = cnn_model.evaluate(X_test, y_test_cat, verbose=0)\n",
    "gcn_loss, gcn_acc = gcn_model.evaluate([X_test, X_test], y_test_cat, verbose=0)\n",
    "\n",
    "cnn_preds = cnn_model.predict(X_test, verbose=0)\n",
    "gcn_preds = gcn_model.predict([X_test, X_test], verbose=0)\n",
    "\n",
    "cnn_pred_classes = np.argmax(cnn_preds, axis=1)\n",
    "gcn_pred_classes = np.argmax(gcn_preds, axis=1)\n",
    "y_test_classes = np.argmax(y_test_cat, axis=1)\n",
    "\n",
    "class_names = ['Left Hand', 'Right Hand']\n",
    "\n",
    "print('='*70)\n",
    "print('FINAL RESULTS')\n",
    "print('='*70)\n",
    "print(f'CNN Accuracy: {cnn_acc*100:.2f}%')\n",
    "print(f'GCN Accuracy: {gcn_acc*100:.2f}%')\n",
    "print('='*70)\n",
    "\n",
    "if gcn_acc > cnn_acc:\n",
    "    print(f'WINNER: GCN (+{(gcn_acc-cnn_acc)*100:.2f}%)')\n",
    "else:\n",
    "    print(f'WINNER: CNN (+{(cnn_acc-gcn_acc)*100:.2f}%)')\n",
    "\n",
    "cnn_cm = confusion_matrix(y_test_classes, cnn_pred_classes)\n",
    "gcn_cm = confusion_matrix(y_test_classes, gcn_pred_classes)\n",
    "\n",
    "fig, axes = plt.subplots(1, 2, figsize=(14, 5))\n",
    "\n",
    "sns.heatmap(cnn_cm, annot=True, fmt='d', cmap='Blues', xticklabels=class_names, \n",
    "            yticklabels=class_names, ax=axes[0], cbar_kws={'label': 'Count'})\n",
    "axes[0].set_title(f'CNN Confusion Matrix (Accuracy: {cnn_acc*100:.2f}%)', fontsize=14, fontweight='bold')\n",
    "axes[0].set_ylabel('True Label', fontsize=12)\n",
    "axes[0].set_xlabel('Predicted Label', fontsize=12)\n",
    "\n",
    "sns.heatmap(gcn_cm, annot=True, fmt='d', cmap='Oranges', xticklabels=class_names, \n",
    "            yticklabels=class_names, ax=axes[1], cbar_kws={'label': 'Count'})\n",
    "axes[1].set_title(f'GCN Confusion Matrix (Accuracy: {gcn_acc*100:.2f}%)', fontsize=14, fontweight='bold')\n",
    "axes[1].set_ylabel('True Label', fontsize=12)\n",
    "axes[1].set_xlabel('Predicted Label', fontsize=12)\n",
    "\n",
    "plt.tight_layout()\n",
    "plt.show()\n",
    "\n",
    "print(\"\\nCNN Classification Report:\")\n",
    "print(classification_report(y_test_classes, cnn_pred_classes, target_names=class_names))\n",
    "print(\"\\nGCN Classification Report:\")\n",
    "print(classification_report(y_test_classes, gcn_pred_classes, target_names=class_names))\n",
    "\n",
    "cnn_precision, cnn_recall, cnn_f1, _ = precision_recall_fscore_support(y_test_classes, cnn_pred_classes, average=None)\n",
    "gcn_precision, gcn_recall, gcn_f1, _ = precision_recall_fscore_support(y_test_classes, gcn_pred_classes, average=None)\n",
    "\n",
    "fig, axes = plt.subplots(1, 3, figsize=(16, 5))\n",
    "x = np.arange(len(class_names))\n",
    "width = 0.35\n",
    "\n",
    "axes[0].bar(x - width/2, cnn_precision, width, label='CNN', color='skyblue', alpha=0.8)\n",
    "axes[0].bar(x + width/2, gcn_precision, width, label='GCN', color='salmon', alpha=0.8)\n",
    "axes[0].set_ylabel('Precision', fontsize=12)\n",
    "axes[0].set_title('Precision Comparison', fontsize=14, fontweight='bold')\n",
    "axes[0].set_xticks(x)\n",
    "axes[0].set_xticklabels(class_names)\n",
    "axes[0].legend()\n",
    "axes[0].grid(axis='y', alpha=0.3)\n",
    "\n",
    "axes[1].bar(x - width/2, cnn_recall, width, label='CNN', color='skyblue', alpha=0.8)\n",
    "axes[1].bar(x + width/2, gcn_recall, width, label='GCN', color='salmon', alpha=0.8)\n",
    "axes[1].set_ylabel('Recall', fontsize=12)\n",
    "axes[1].set_title('Recall Comparison', fontsize=14, fontweight='bold')\n",
    "axes[1].set_xticks(x)\n",
    "axes[1].set_xticklabels(class_names)\n",
    "axes[1].legend()\n",
    "axes[1].grid(axis='y', alpha=0.3)\n",
    "\n",
    "axes[2].bar(x - width/2, cnn_f1, width, label='CNN', color='skyblue', alpha=0.8)\n",
    "axes[2].bar(x + width/2, gcn_f1, width, label='GCN', color='salmon', alpha=0.8)\n",
    "axes[2].set_ylabel('F1-Score', fontsize=12)\n",
    "axes[2].set_title('F1-Score Comparison', fontsize=14, fontweight='bold')\n",
    "axes[2].set_xticks(x)\n",
    "axes[2].set_xticklabels(class_names)\n",
    "axes[2].legend()\n",
    "axes[2].grid(axis='y', alpha=0.3)\n",
    "\n",
    "plt.tight_layout()\n",
    "plt.show()\n",
    "\n",
    "summary_data = {\n",
    "    'Metric': ['Test Accuracy', 'Test Loss', 'Parameters', 'Avg Precision', 'Avg Recall', 'Avg F1-Score'],\n",
    "    'CNN': [\n",
    "        f'{cnn_acc*100:.2f}%',\n",
    "        f'{cnn_loss:.4f}',\n",
    "        f'{cnn_model.count_params():,}',\n",
    "        f'{np.mean(cnn_precision):.4f}',\n",
    "        f'{np.mean(cnn_recall):.4f}',\n",
    "        f'{np.mean(cnn_f1):.4f}'\n",
    "    ],\n",
    "    'GCN': [\n",
    "        f'{gcn_acc*100:.2f}%',\n",
    "        f'{gcn_loss:.4f}',\n",
    "        f'{gcn_model.count_params():,}',\n",
    "        f'{np.mean(gcn_precision):.4f}',\n",
    "        f'{np.mean(gcn_recall):.4f}',\n",
    "        f'{np.mean(gcn_f1):.4f}'\n",
    "    ]\n",
    "}\n",
    "\n",
    "summary_df = pd.DataFrame(summary_data)\n",
    "print(\"\\n\" + \"=\"*70)\n",
    "print(\"MODEL COMPARISON SUMMARY\")\n",
    "print(\"=\"*70)\n",
    "print(summary_df.to_string(index=False))\n",
    "print(\"=\"*70)"
   ]
  }
 ],
 "metadata": {
  "kernelspec": {
   "display_name": "Python 3",
   "language": "python",
   "name": "python3"
  },
  "language_info": {
   "codemirror_mode": {
    "name": "ipython",
    "version": 3
   },
   "file_extension": ".py",
   "mimetype": "text/x-python",
   "name": "python",
   "nbconvert_exporter": "python",
   "pygments_lexer": "ipython3",
   "version": "3.12.5"
  }
 },
 "nbformat": 4,
 "nbformat_minor": 4
}
